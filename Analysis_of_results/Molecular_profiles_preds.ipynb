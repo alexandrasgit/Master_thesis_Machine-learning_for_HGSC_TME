{
 "cells": [
  {
   "cell_type": "markdown",
   "metadata": {},
   "source": [
    "# Molecular profiles predictions\n",
    "\n",
    "A notebook is created to create the resulted plots based on the experiment output pipeline file of 'bin_class_pipeline.py'."
   ]
  },
  {
   "cell_type": "markdown",
   "metadata": {},
   "source": [
    "Firstly, load all needed experiment output files across four cell types:\n",
    "   1) Cancer.full.panel/Cancer1\n",
    "   2) Cancer/Cancer2\n",
    "   3) Immune-stromal\n",
    "   4) All cells\n",
    "\n",
    "Secondly, calculate median F1 score across 30 runs for each comparison."
   ]
  },
  {
   "cell_type": "code",
   "execution_count": 1,
   "metadata": {},
   "outputs": [
    {
     "name": "stdout",
     "output_type": "stream",
     "text": [
      "{'Cancer_BRCAloss_vs_HRP_PDS': {'median': 0.7713411708780635, 'confidence_interval': (0.7551679589793451, 0.787514382776782)}, 'Cancer_BRCAloss_vs_CCNE1amp_PDS': {'median': 0.6674798853259758, 'confidence_interval': (0.6359972611718473, 0.6989625094801043)}, 'Cancer_HRP_vs_CCNE1amp_PDS': {'median': 0.5925935570634406, 'confidence_interval': (0.5589838785345628, 0.6262032355923185)}, 'Cancer_HRP_vs_HRD_PDS': {'median': 0.666626496329716, 'confidence_interval': (0.6146203986324473, 0.7186325940269848)}, 'Cancer_BRCAloss_vs_HRD_PDS': {'median': 0.653743107775445, 'confidence_interval': (0.6234117034743636, 0.6840745120765264)}, 'Cancer_CCNE1amp_vs_HRD_PDS': {'median': 0.558922766024776, 'confidence_interval': (0.49693029738517863, 0.6209152346643734)}}\n",
      "{'Cancer_BRCAloss_vs_HRP_IDS': {'median': 0.6364415138964488, 'confidence_interval': (0.6051295787110949, 0.6677534490818027)}, 'Cancer_BRCAloss_vs_CCNE1amp_IDS': {'median': 0.5803538571469045, 'confidence_interval': (0.5413719983549097, 0.6193357159388992)}, 'Cancer_HRP_vs_CCNE1amp_IDS': {'median': 0.6147136459183611, 'confidence_interval': (0.5798516669757815, 0.6495756248609407)}, 'Cancer_HRP_vs_HRD_IDS': {'median': 0.4863790485662042, 'confidence_interval': (0.4428159822229505, 0.5299421149094579)}, 'Cancer_BRCAloss_vs_HRD_IDS': {'median': 0.6378661341602045, 'confidence_interval': (0.6026145334036865, 0.6731177349167226)}, 'Cancer_CCNE1amp_vs_HRD_IDS': {'median': 0.62256346645532, 'confidence_interval': (0.5709548662931839, 0.6741720666174561)}}\n",
      "{'Cancer_BRCAloss_vs_HRP_PDS': {'median': 0.6536670395467474, 'confidence_interval': (0.6092724483037761, 0.6980616307897187)}, 'Cancer_BRCAloss_vs_CCNE1amp_PDS': {'median': 0.6964006648912968, 'confidence_interval': (0.674243018886744, 0.7185583108958497)}, 'Cancer_HRP_vs_CCNE1amp_PDS': {'median': 0.5128354058911958, 'confidence_interval': (0.4667221713409573, 0.5589486404414343)}, 'Cancer_HRP_vs_HRD_PDS': {'median': 0.5944753488678136, 'confidence_interval': (0.5442786483814945, 0.6446720493541327)}, 'Cancer_BRCAloss_vs_HRD_PDS': {'median': 0.5804903843245164, 'confidence_interval': (0.5486670325924367, 0.6123137360565961)}, 'Cancer_CCNE1amp_vs_HRD_PDS': {'median': 0.6482030988965845, 'confidence_interval': (0.6161308280647777, 0.6802753697283912)}}\n",
      "{'Cancer_BRCAloss_vs_HRP_IDS': {'median': 0.6361898321884425, 'confidence_interval': (0.6060112445148246, 0.6663684198620604)}, 'Cancer_BRCAloss_vs_CCNE1amp_IDS': {'median': 0.5087030461442947, 'confidence_interval': (0.4750507634681058, 0.5423553288204837)}, 'Cancer_HRP_vs_CCNE1amp_IDS': {'median': 0.6258572463840554, 'confidence_interval': (0.5864221236427221, 0.6652923691253887)}, 'Cancer_HRP_vs_HRD_IDS': {'median': 0.4808624647274919, 'confidence_interval': (0.4481342718225101, 0.5135906576324737)}, 'Cancer_BRCAloss_vs_HRD_IDS': {'median': 0.5860871716635327, 'confidence_interval': (0.5515257167344132, 0.6206486265926523)}, 'Cancer_CCNE1amp_vs_HRD_IDS': {'median': 0.6018131745477892, 'confidence_interval': (0.5428918064858754, 0.6607345426097029)}}\n",
      "{'Immune-stromal_BRCAloss_vs_HRP_PDS': {'median': 0.7392297873803447, 'confidence_interval': (0.704749004315077, 0.7737105704456124)}, 'Immune-stromal_BRCAloss_vs_CCNE1amp_PDS': {'median': 0.6756370438359899, 'confidence_interval': (0.650623729662646, 0.7006503580093337)}, 'Immune-stromal_HRP_vs_CCNE1amp_PDS': {'median': 0.5462863934607879, 'confidence_interval': (0.4839030341915892, 0.6086697527299866)}, 'Immune-stromal_HRP_vs_HRD_PDS': {'median': 0.6160469444582748, 'confidence_interval': (0.5348306980086279, 0.6972631909079217)}, 'Immune-stromal_BRCAloss_vs_HRD_PDS': {'median': 0.6256183389921912, 'confidence_interval': (0.590135740886015, 0.6611009370983675)}, 'Immune-stromal_CCNE1amp_vs_HRD_PDS': {'median': 0.5978640860762033, 'confidence_interval': (0.5540816007507418, 0.6416465714016649)}}\n",
      "{'Immune-stromal_BRCAloss_vs_HRP_IDS': {'median': 0.5791305537006026, 'confidence_interval': (0.5486855429971415, 0.6095755644040638)}, 'Immune-stromal_BRCAloss_vs_CCNE1amp_IDS': {'median': 0.6258314834559882, 'confidence_interval': (0.6010019988490033, 0.650660968062973)}, 'Immune-stromal_HRP_vs_CCNE1amp_IDS': {'median': 0.5409197889029657, 'confidence_interval': (0.5069666823764687, 0.5748728954294626)}, 'Immune-stromal_HRP_vs_HRD_IDS': {'median': 0.4447854592070406, 'confidence_interval': (0.41801538451752485, 0.47155553389655636)}, 'Immune-stromal_BRCAloss_vs_HRD_IDS': {'median': 0.6366005980548113, 'confidence_interval': (0.6083782075890832, 0.6648229885205393)}, 'Immune-stromal_CCNE1amp_vs_HRD_IDS': {'median': 0.5296777943055679, 'confidence_interval': (0.49259725935746307, 0.5667583292536729)}}\n",
      "{'All_BRCAloss_vs_HRP_PDS': {'median': 0.749540387943989, 'confidence_interval': (0.7254937547561191, 0.773587021131859)}, 'All_BRCAloss_vs_CCNE1amp_PDS': {'median': 0.6775966426089775, 'confidence_interval': (0.6589657521750856, 0.6962275330428693)}, 'All_HRP_vs_CCNE1amp_PDS': {'median': 0.6731988948675214, 'confidence_interval': (0.6357125271909122, 0.7106852625441306)}, 'All_HRP_vs_HRD_PDS': {'median': 0.6676912171646555, 'confidence_interval': (0.6163915961816414, 0.7189908381476696)}, 'All_BRCAloss_vs_HRD_PDS': {'median': 0.6174920140383746, 'confidence_interval': (0.5971305822422095, 0.6378534458345397)}, 'All_CCNE1amp_vs_HRD_PDS': {'median': 0.5784906757699873, 'confidence_interval': (0.5228973120186213, 0.6340840395213532)}}\n",
      "{'All_BRCAloss_vs_HRP_IDS': {'median': 0.6081634017135464, 'confidence_interval': (0.5860542325097388, 0.6302725709173541)}, 'All_BRCAloss_vs_CCNE1amp_IDS': {'median': 0.5848169779432973, 'confidence_interval': (0.5492920184147443, 0.6203419374718504)}, 'All_HRP_vs_CCNE1amp_IDS': {'median': 0.5711908103153285, 'confidence_interval': (0.5353956059180169, 0.60698601471264)}, 'All_HRP_vs_HRD_IDS': {'median': 0.49617765381735524, 'confidence_interval': (0.4668992097990726, 0.5254560978356378)}, 'All_BRCAloss_vs_HRD_IDS': {'median': 0.5914194931643253, 'confidence_interval': (0.5655325840746988, 0.6173064022539518)}, 'All_CCNE1amp_vs_HRD_IDS': {'median': 0.5601329592451101, 'confidence_interval': (0.5206881785695223, 0.5995777399206978)}}\n"
     ]
    }
   ],
   "source": [
    "import analysis_of_molprofiles_results\n",
    "import os\n",
    "\n",
    "config = {\n",
    "    'cancer1_folder_path': '/Users/alex/Desktop/Laboratory/Projects/Thesis/Results/Molprofiles/Cancer1/',\n",
    "    'cancer2_folder_path': '/Users/alex/Desktop/Laboratory/Projects/Thesis/Results/Molprofiles/Cancer2/',\n",
    "    'non_cancer_folder_path': '/Users/alex/Desktop/Laboratory/Projects/Thesis/Results/Molprofiles/Non-cancer/',\n",
    "    'all_folder_path': '/Users/alex/Desktop/Laboratory/Projects/Thesis/Results/Molprofiles/All_cells/'\n",
    "}\n",
    "\n",
    "os.chdir(config['cancer1_folder_path'])\n",
    "\n",
    "cancer1_files = ['Cancer_BRCAloss_vs_HRP_IDS.csv',\n",
    "                'Cancer_BRCAloss_vs_HRP_PDS.csv',\n",
    "                'Cancer_BRCAloss_vs_CCNE1amp_IDS.csv',\n",
    "                'Cancer_BRCAloss_vs_CCNE1amp_PDS.csv',\n",
    "                'Cancer_HRP_vs_CCNE1amp_IDS.csv',\n",
    "                'Cancer_HRP_vs_CCNE1amp_PDS.csv',\n",
    "                'Cancer_HRP_vs_HRD_IDS.csv',\n",
    "                'Cancer_HRP_vs_HRD_PDS.csv',\n",
    "                'Cancer_BRCAloss_vs_HRD_IDS.csv',\n",
    "                'Cancer_BRCAloss_vs_HRD_PDS.csv',\n",
    "                'Cancer_CCNE1amp_vs_HRD_IDS.csv',\n",
    "                'Cancer_CCNE1amp_vs_HRD_PDS.csv'\n",
    "                \n",
    "]\n",
    "\n",
    "pds_cancer1_files = [file for file in cancer1_files if 'PDS' in file]\n",
    "ids_cancer1_files = [file for file in cancer1_files if 'IDS' in file]\n",
    "\n",
    "pds_cancer1_results = analysis_of_molprofiles_results.calculate_median_f1_score(pds_cancer1_files, 'Cancer')\n",
    "print(pds_cancer1_results)\n",
    "ids_cancer1_results = analysis_of_molprofiles_results.calculate_median_f1_score(ids_cancer1_files, 'Cancer')\n",
    "print(ids_cancer1_results)\n",
    "\n",
    "os.chdir(config['cancer2_folder_path'])\n",
    "\n",
    "cancer2_files = ['Cancer_BRCAloss_vs_HRP_IDS.csv',\n",
    "                'Cancer_BRCAloss_vs_HRP_PDS.csv',\n",
    "                'Cancer_BRCAloss_vs_CCNE1amp_IDS.csv',\n",
    "                'Cancer_BRCAloss_vs_CCNE1amp_PDS.csv',\n",
    "                'Cancer_HRP_vs_CCNE1amp_IDS.csv',\n",
    "                'Cancer_HRP_vs_CCNE1amp_PDS.csv',\n",
    "                'Cancer_HRP_vs_HRD_IDS.csv',\n",
    "                'Cancer_HRP_vs_HRD_PDS.csv',\n",
    "                'Cancer_BRCAloss_vs_HRD_IDS.csv',\n",
    "                'Cancer_BRCAloss_vs_HRD_PDS.csv',\n",
    "                'Cancer_CCNE1amp_vs_HRD_IDS.csv',\n",
    "                'Cancer_CCNE1amp_vs_HRD_PDS.csv'\n",
    "]\n",
    "\n",
    "pds_cancer2_files = [file for file in cancer2_files if 'PDS' in file]\n",
    "ids_cancer2_files = [file for file in cancer2_files if 'IDS' in file]\n",
    "\n",
    "pds_cancer2_results = analysis_of_molprofiles_results.calculate_median_f1_score(pds_cancer2_files, 'Cancer')\n",
    "print(pds_cancer2_results)\n",
    "ids_cancer2_results = analysis_of_molprofiles_results.calculate_median_f1_score(ids_cancer2_files, 'Cancer')\n",
    "print(ids_cancer2_results)\n",
    "\n",
    "os.chdir(config['non_cancer_folder_path'])\n",
    "\n",
    "non_cancer_files = [\n",
    "    'Immune-stromal_BRCAloss_vs_HRP_IDS_1.csv',\n",
    "    'Immune-stromal_BRCAloss_vs_HRP_IDS_2.csv',\n",
    "    'Immune-stromal_BRCAloss_vs_HRP_PDS_1.csv',\n",
    "    'Immune-stromal_BRCAloss_vs_HRP_PDS_2.csv',\n",
    "    \n",
    "    'Immune-stromal_BRCAloss_vs_CCNE1amp_IDS_1.csv',\n",
    "    'Immune-stromal_BRCAloss_vs_CCNE1amp_IDS_2.csv',\n",
    "    'Immune-stromal_BRCAloss_vs_CCNE1amp_PDS_1.csv',\n",
    "    'Immune-stromal_BRCAloss_vs_CCNE1amp_PDS_2.csv',\n",
    "    \n",
    "    'Immune-stromal_HRP_vs_CCNE1amp_IDS_1.csv',\n",
    "    'Immune-stromal_HRP_vs_CCNE1amp_IDS_2.csv',\n",
    "    'Immune-stromal_HRP_vs_CCNE1amp_PDS_1.csv',\n",
    "    'Immune-stromal_HRP_vs_CCNE1amp_PDS_2.csv',\n",
    "    \n",
    "    'Immune-stromal_HRP_vs_HRD_IDS_1.csv',\n",
    "    'Immune-stromal_HRP_vs_HRD_IDS_2.csv',\n",
    "    'Immune-stromal_HRP_vs_HRD_PDS_1.csv',\n",
    "    'Immune-stromal_HRP_vs_HRD_PDS_2.csv',\n",
    "    \n",
    "    'Immune-stromal_BRCAloss_vs_HRD_IDS_1.csv',\n",
    "    'Immune-stromal_BRCAloss_vs_HRD_IDS_2.csv',\n",
    "    'Immune-stromal_BRCAloss_vs_HRD_PDS_1.csv',\n",
    "    'Immune-stromal_BRCAloss_vs_HRD_PDS_2.csv',\n",
    "    \n",
    "    'Immune-stromal_CCNE1amp_vs_HRD_IDS_1.csv',\n",
    "    'Immune-stromal_CCNE1amp_vs_HRD_IDS_2.csv',\n",
    "    'Immune-stromal_CCNE1amp_vs_HRD_PDS_1.csv',\n",
    "    'Immune-stromal_CCNE1amp_vs_HRD_PDS_2.csv'\n",
    "]\n",
    "\n",
    "pds_non_cancer_files = [file for file in non_cancer_files if 'PDS' in file]\n",
    "ids_non_cancer_files = [file for file in non_cancer_files if 'IDS' in file]\n",
    "\n",
    "pds_non_cancer_results = analysis_of_molprofiles_results.calculate_median_f1_score(pds_non_cancer_files)\n",
    "print(pds_non_cancer_results)\n",
    "ids_non_cancer_results = analysis_of_molprofiles_results.calculate_median_f1_score(ids_non_cancer_files)\n",
    "print(ids_non_cancer_results)\n",
    "\n",
    "os.chdir(config['all_folder_path'])\n",
    "\n",
    "all_cells_files = ['All_BRCAloss_vs_HRP_IDS_1.csv',\n",
    "                'All_BRCAloss_vs_HRP_IDS_2.csv',\n",
    "                'All_BRCAloss_vs_HRP_PDS_1.csv',\n",
    "                'All_BRCAloss_vs_HRP_PDS_2.csv',\n",
    "                \n",
    "                'All_BRCAloss_vs_CCNE1amp_IDS_1.csv',\n",
    "                'All_BRCAloss_vs_CCNE1amp_IDS_2.csv',\n",
    "                'All_BRCAloss_vs_CCNE1amp_PDS_1.csv',\n",
    "                'All_BRCAloss_vs_CCNE1amp_PDS_2.csv',\n",
    "                \n",
    "                'All_HRP_vs_CCNE1amp_IDS_1.csv',\n",
    "                'All_HRP_vs_CCNE1amp_IDS_2.csv',\n",
    "                'All_HRP_vs_CCNE1amp_PDS_1.csv',\n",
    "                'All_HRP_vs_CCNE1amp_PDS_2.csv',\n",
    "                \n",
    "                'All_HRP_vs_HRD_IDS_1.csv',\n",
    "                'All_HRP_vs_HRD_IDS_2.csv',\n",
    "                'All_HRP_vs_HRD_PDS_1.csv',\n",
    "                'All_HRP_vs_HRD_PDS_1.csv',\n",
    "                \n",
    "                'All_BRCAloss_vs_HRD_IDS_1.csv',\n",
    "                'All_BRCAloss_vs_HRD_IDS_2.csv',\n",
    "                'All_BRCAloss_vs_HRD_PDS_1.csv',\n",
    "                'All_BRCAloss_vs_HRD_PDS_2.csv',\n",
    "\n",
    "                'All_CCNE1amp_vs_HRD_IDS_1.csv',\n",
    "                'All_CCNE1amp_vs_HRD_IDS_2.csv',\n",
    "                'All_CCNE1amp_vs_HRD_PDS_1.csv',\n",
    "                'All_CCNE1amp_vs_HRD_PDS_2.csv'\n",
    "]\n",
    "\n",
    "pds_all_cells_files = [file for file in all_cells_files if 'PDS' in file]\n",
    "ids_all_cells_files = [file for file in all_cells_files if 'IDS' in file]\n",
    "\n",
    "pds_all_results = analysis_of_molprofiles_results.calculate_median_f1_score(pds_all_cells_files)\n",
    "print(pds_all_results)\n",
    "ids_all_results = analysis_of_molprofiles_results.calculate_median_f1_score(ids_all_cells_files)\n",
    "print(ids_all_results)"
   ]
  },
  {
   "cell_type": "markdown",
   "metadata": {},
   "source": [
    "### Create heatmaps reflecting F1 score and confidence intervals (CI).\n",
    "\n",
    "Heatmaps depicting the median F1 test scores across 30 splits of samples into training and test sets for both PDS and IDS samples. Each panel represents six comparisons of molecular profile pairs across four cell types. Test scores are accompanied by their respective 95% CI."
   ]
  },
  {
   "cell_type": "code",
   "execution_count": 2,
   "metadata": {},
   "outputs": [
    {
     "data": {
      "image/png": "[encoded data removed]",
      "text/plain": [
       "<Figure size 400x600 with 2 Axes>"
      ]
     },
     "metadata": {
      "needs_background": "light"
     },
     "output_type": "display_data"
    },
    {
     "data": {
      "image/png": "[encoded data removed]",
      "text/plain": [
       "<Figure size 400x600 with 2 Axes>"
      ]
     },
     "metadata": {
      "needs_background": "light"
     },
     "output_type": "display_data"
    }
   ],
   "source": [
    "%matplotlib inline\n",
    "\n",
    "analysis_of_molprofiles_results.create_heatmap_of_f1(pds_all_results,pds_cancer1_results,pds_cancer2_results,pds_non_cancer_results, 'PDS')\n",
    "analysis_of_molprofiles_results.create_heatmap_of_f1(ids_all_results,ids_cancer1_results,ids_cancer2_results,ids_non_cancer_results, 'IDS')"
   ]
  },
  {
   "cell_type": "markdown",
   "metadata": {},
   "source": [
    "### Check what are the most predictive features and their median expression"
   ]
  },
  {
   "cell_type": "markdown",
   "metadata": {},
   "source": [
    "Firstly, read the cell file"
   ]
  },
  {
   "cell_type": "code",
   "execution_count": 3,
   "metadata": {},
   "outputs": [],
   "source": [
    "import pandas as pd\n",
    "\n",
    "# Read cells file\n",
    "cells_file = \"/Users/alex/Desktop/Laboratory/Projects/Data/final_dataset_202310.csv\"\n",
    "cells_df = pd.read_csv(cells_file)\n",
    "cells_df['Molecular.profile2'] = cells_df['Molecular.profile2'].replace('BRCAmut/met', 'BRCAmutmet')"
   ]
  },
  {
   "cell_type": "markdown",
   "metadata": {},
   "source": [
    "### Plot the heatmap with top predictive features and their median expression\n",
    "The median pre-processed expression across four molecular profiles of identified shared top predictive features across three comparisons for each cell type is plotted on heatmaps. The expression values are scaled by row, and the Kruskal-Wallis H-test was employed to compare the four population medians. The significant results are labelled by ‘*’ if the p-value is less than 0.05.\n",
    "\n",
    "In addition, ROC curves and MDA scores for 'Cancer_BRCAloss_vs_HRP_PDS' are printed. Firstly, for Cancer.full.panel and then Cancer. In MDA plot, the distribution of one feature is compared to following it using the Mann-Whitney U test. The significant results are labelled by ‘*’ if the p-value is less than 0.05."
   ]
  },
  {
   "cell_type": "code",
   "execution_count": 4,
   "metadata": {},
   "outputs": [
    {
     "data": {
      "image/png": "[encoded data removed]",
      "text/plain": [
       "<Figure size 300x300 with 1 Axes>"
      ]
     },
     "metadata": {
      "needs_background": "light"
     },
     "output_type": "display_data"
    },
    {
     "data": {
      "image/png": "[encoded data removed]",
      "text/plain": [
       "<Figure size 640x480 with 1 Axes>"
      ]
     },
     "metadata": {
      "needs_background": "light"
     },
     "output_type": "display_data"
    },
    {
     "data": {
      "application/vnd.plotly.v1+json": {
       "config": {
        "plotlyServerURL": "https://plot.ly"
       },
       "data": [
        {
         "fill": "toself",
         "hovertemplate": "r=%{r}<br>theta=%{theta}<extra></extra>",
         "legendgroup": "",
         "line": {
          "color": "#636efa",
          "dash": "solid"
         },
         "marker": {
          "symbol": "circle"
         },
         "mode": "lines",
         "name": "",
         "r": [
          0.9242354295712683,
          0.7133087949615413,
          1.8603783578644746,
          1.022329987309007,
          0.9837970435905551,
          0.9242354295712683
         ],
         "showlegend": false,
         "subplot": "polar",
         "theta": [
          "CD8a",
          "aSMA",
          "MHCII",
          "cPARP1",
          "yH2AX",
          "CD8a"
         ],
         "type": "scatterpolar"
        }
       ],
       "layout": {
        "font": {
         "size": 32
        },
        "legend": {
         "tracegroupgap": 0
        },
        "margin": {
         "t": 60
        },
        "paper_bgcolor": "rgba(0, 0, 0, 0)",
        "plot_bgcolor": "rgba(0, 0, 0, 0)",
        "polar": {
         "angularaxis": {
          "direction": "clockwise",
          "rotation": 90
         },
         "domain": {
          "x": [
           0,
           1
          ],
          "y": [
           0,
           1
          ]
         },
         "radialaxis": {
          "range": [
           0,
           2.2
          ],
          "tickvals": [
           0.5,
           1,
           1.5
          ]
         }
        },
        "template": {
         "data": {
          "bar": [
           {
            "error_x": {
             "color": "#2a3f5f"
            },
            "error_y": {
             "color": "#2a3f5f"
            },
            "marker": {
             "line": {
              "color": "#E5ECF6",
              "width": 0.5
             },
             "pattern": {
              "fillmode": "overlay",
              "size": 10,
              "solidity": 0.2
             }
            },
            "type": "bar"
           }
          ],
          "barpolar": [
           {
            "marker": {
             "line": {
              "color": "#E5ECF6",
              "width": 0.5
             },
             "pattern": {
              "fillmode": "overlay",
              "size": 10,
              "solidity": 0.2
             }
            },
            "type": "barpolar"
           }
          ],
          "carpet": [
           {
            "aaxis": {
             "endlinecolor": "#2a3f5f",
             "gridcolor": "white",
             "linecolor": "white",
             "minorgridcolor": "white",
             "startlinecolor": "#2a3f5f"
            },
            "baxis": {
             "endlinecolor": "#2a3f5f",
             "gridcolor": "white",
             "linecolor": "white",
             "minorgridcolor": "white",
             "startlinecolor": "#2a3f5f"
            },
            "type": "carpet"
           }
          ],
          "choropleth": [
           {
            "colorbar": {
             "outlinewidth": 0,
             "ticks": ""
            },
            "type": "choropleth"
           }
          ],
          "contour": [
           {
            "colorbar": {
             "outlinewidth": 0,
             "ticks": ""
            },
            "colorscale": [
             [
              0,
              "#0d0887"
             ],
             [
              0.1111111111111111,
              "#46039f"
             ],
             [
              0.2222222222222222,
              "#7201a8"
             ],
             [
              0.3333333333333333,
              "#9c179e"
             ],
             [
              0.4444444444444444,
              "#bd3786"
             ],
             [
              0.5555555555555556,
              "#d8576b"
             ],
             [
              0.6666666666666666,
              "#ed7953"
             ],
             [
              0.7777777777777778,
              "#fb9f3a"
             ],
             [
              0.8888888888888888,
              "#fdca26"
             ],
             [
              1,
              "#f0f921"
             ]
            ],
            "type": "contour"
           }
          ],
          "contourcarpet": [
           {
            "colorbar": {
             "outlinewidth": 0,
             "ticks": ""
            },
            "type": "contourcarpet"
           }
          ],
          "heatmap": [
           {
            "colorbar": {
             "outlinewidth": 0,
             "ticks": ""
            },
            "colorscale": [
             [
              0,
              "#0d0887"
             ],
             [
              0.1111111111111111,
              "#46039f"
             ],
             [
              0.2222222222222222,
              "#7201a8"
             ],
             [
              0.3333333333333333,
              "#9c179e"
             ],
             [
              0.4444444444444444,
              "#bd3786"
             ],
             [
              0.5555555555555556,
              "#d8576b"
             ],
             [
              0.6666666666666666,
              "#ed7953"
             ],
             [
              0.7777777777777778,
              "#fb9f3a"
             ],
             [
              0.8888888888888888,
              "#fdca26"
             ],
             [
              1,
              "#f0f921"
             ]
            ],
            "type": "heatmap"
           }
          ],
          "heatmapgl": [
           {
            "colorbar": {
             "outlinewidth": 0,
             "ticks": ""
            },
            "colorscale": [
             [
              0,
              "#0d0887"
             ],
             [
              0.1111111111111111,
              "#46039f"
             ],
             [
              0.2222222222222222,
              "#7201a8"
             ],
             [
              0.3333333333333333,
              "#9c179e"
             ],
             [
              0.4444444444444444,
              "#bd3786"
             ],
             [
              0.5555555555555556,
              "#d8576b"
             ],
             [
              0.6666666666666666,
              "#ed7953"
             ],
             [
              0.7777777777777778,
              "#fb9f3a"
             ],
             [
              0.8888888888888888,
              "#fdca26"
             ],
             [
              1,
              "#f0f921"
             ]
            ],
            "type": "heatmapgl"
           }
          ],
          "histogram": [
           {
            "marker": {
             "pattern": {
              "fillmode": "overlay",
              "size": 10,
              "solidity": 0.2
             }
            },
            "type": "histogram"
           }
          ],
          "histogram2d": [
           {
            "colorbar": {
             "outlinewidth": 0,
             "ticks": ""
            },
            "colorscale": [
             [
              0,
              "#0d0887"
             ],
             [
              0.1111111111111111,
              "#46039f"
             ],
             [
              0.2222222222222222,
              "#7201a8"
             ],
             [
              0.3333333333333333,
              "#9c179e"
             ],
             [
              0.4444444444444444,
              "#bd3786"
             ],
             [
              0.5555555555555556,
              "#d8576b"
             ],
             [
              0.6666666666666666,
              "#ed7953"
             ],
             [
              0.7777777777777778,
              "#fb9f3a"
             ],
             [
              0.8888888888888888,
              "#fdca26"
             ],
             [
              1,
              "#f0f921"
             ]
            ],
            "type": "histogram2d"
           }
          ],
          "histogram2dcontour": [
           {
            "colorbar": {
             "outlinewidth": 0,
             "ticks": ""
            },
            "colorscale": [
             [
              0,
              "#0d0887"
             ],
             [
              0.1111111111111111,
              "#46039f"
             ],
             [
              0.2222222222222222,
              "#7201a8"
             ],
             [
              0.3333333333333333,
              "#9c179e"
             ],
             [
              0.4444444444444444,
              "#bd3786"
             ],
             [
              0.5555555555555556,
              "#d8576b"
             ],
             [
              0.6666666666666666,
              "#ed7953"
             ],
             [
              0.7777777777777778,
              "#fb9f3a"
             ],
             [
              0.8888888888888888,
              "#fdca26"
             ],
             [
              1,
              "#f0f921"
             ]
            ],
            "type": "histogram2dcontour"
           }
          ],
          "mesh3d": [
           {
            "colorbar": {
             "outlinewidth": 0,
             "ticks": ""
            },
            "type": "mesh3d"
           }
          ],
          "parcoords": [
           {
            "line": {
             "colorbar": {
              "outlinewidth": 0,
              "ticks": ""
             }
            },
            "type": "parcoords"
           }
          ],
          "pie": [
           {
            "automargin": true,
            "type": "pie"
           }
          ],
          "scatter": [
           {
            "fillpattern": {
             "fillmode": "overlay",
             "size": 10,
             "solidity": 0.2
            },
            "type": "scatter"
           }
          ],
          "scatter3d": [
           {
            "line": {
             "colorbar": {
              "outlinewidth": 0,
              "ticks": ""
             }
            },
            "marker": {
             "colorbar": {
              "outlinewidth": 0,
              "ticks": ""
             }
            },
            "type": "scatter3d"
           }
          ],
          "scattercarpet": [
           {
            "marker": {
             "colorbar": {
              "outlinewidth": 0,
              "ticks": ""
             }
            },
            "type": "scattercarpet"
           }
          ],
          "scattergeo": [
           {
            "marker": {
             "colorbar": {
              "outlinewidth": 0,
              "ticks": ""
             }
            },
            "type": "scattergeo"
           }
          ],
          "scattergl": [
           {
            "marker": {
             "colorbar": {
              "outlinewidth": 0,
              "ticks": ""
             }
            },
            "type": "scattergl"
           }
          ],
          "scattermapbox": [
           {
            "marker": {
             "colorbar": {
              "outlinewidth": 0,
              "ticks": ""
             }
            },
            "type": "scattermapbox"
           }
          ],
          "scatterpolar": [
           {
            "marker": {
             "colorbar": {
              "outlinewidth": 0,
              "ticks": ""
             }
            },
            "type": "scatterpolar"
           }
          ],
          "scatterpolargl": [
           {
            "marker": {
             "colorbar": {
              "outlinewidth": 0,
              "ticks": ""
             }
            },
            "type": "scatterpolargl"
           }
          ],
          "scatterternary": [
           {
            "marker": {
             "colorbar": {
              "outlinewidth": 0,
              "ticks": ""
             }
            },
            "type": "scatterternary"
           }
          ],
          "surface": [
           {
            "colorbar": {
             "outlinewidth": 0,
             "ticks": ""
            },
            "colorscale": [
             [
              0,
              "#0d0887"
             ],
             [
              0.1111111111111111,
              "#46039f"
             ],
             [
              0.2222222222222222,
              "#7201a8"
             ],
             [
              0.3333333333333333,
              "#9c179e"
             ],
             [
              0.4444444444444444,
              "#bd3786"
             ],
             [
              0.5555555555555556,
              "#d8576b"
             ],
             [
              0.6666666666666666,
              "#ed7953"
             ],
             [
              0.7777777777777778,
              "#fb9f3a"
             ],
             [
              0.8888888888888888,
              "#fdca26"
             ],
             [
              1,
              "#f0f921"
             ]
            ],
            "type": "surface"
           }
          ],
          "table": [
           {
            "cells": {
             "fill": {
              "color": "#EBF0F8"
             },
             "line": {
              "color": "white"
             }
            },
            "header": {
             "fill": {
              "color": "#C8D4E3"
             },
             "line": {
              "color": "white"
             }
            },
            "type": "table"
           }
          ]
         },
         "layout": {
          "annotationdefaults": {
           "arrowcolor": "#2a3f5f",
           "arrowhead": 0,
           "arrowwidth": 1
          },
          "autotypenumbers": "strict",
          "coloraxis": {
           "colorbar": {
            "outlinewidth": 0,
            "ticks": ""
           }
          },
          "colorscale": {
           "diverging": [
            [
             0,
             "#8e0152"
            ],
            [
             0.1,
             "#c51b7d"
            ],
            [
             0.2,
             "#de77ae"
            ],
            [
             0.3,
             "#f1b6da"
            ],
            [
             0.4,
             "#fde0ef"
            ],
            [
             0.5,
             "#f7f7f7"
            ],
            [
             0.6,
             "#e6f5d0"
            ],
            [
             0.7,
             "#b8e186"
            ],
            [
             0.8,
             "#7fbc41"
            ],
            [
             0.9,
             "#4d9221"
            ],
            [
             1,
             "#276419"
            ]
           ],
           "sequential": [
            [
             0,
             "#0d0887"
            ],
            [
             0.1111111111111111,
             "#46039f"
            ],
            [
             0.2222222222222222,
             "#7201a8"
            ],
            [
             0.3333333333333333,
             "#9c179e"
            ],
            [
             0.4444444444444444,
             "#bd3786"
            ],
            [
             0.5555555555555556,
             "#d8576b"
            ],
            [
             0.6666666666666666,
             "#ed7953"
            ],
            [
             0.7777777777777778,
             "#fb9f3a"
            ],
            [
             0.8888888888888888,
             "#fdca26"
            ],
            [
             1,
             "#f0f921"
            ]
           ],
           "sequentialminus": [
            [
             0,
             "#0d0887"
            ],
            [
             0.1111111111111111,
             "#46039f"
            ],
            [
             0.2222222222222222,
             "#7201a8"
            ],
            [
             0.3333333333333333,
             "#9c179e"
            ],
            [
             0.4444444444444444,
             "#bd3786"
            ],
            [
             0.5555555555555556,
             "#d8576b"
            ],
            [
             0.6666666666666666,
             "#ed7953"
            ],
            [
             0.7777777777777778,
             "#fb9f3a"
            ],
            [
             0.8888888888888888,
             "#fdca26"
            ],
            [
             1,
             "#f0f921"
            ]
           ]
          },
          "colorway": [
           "#636efa",
           "#EF553B",
           "#00cc96",
           "#ab63fa",
           "#FFA15A",
           "#19d3f3",
           "#FF6692",
           "#B6E880",
           "#FF97FF",
           "#FECB52"
          ],
          "font": {
           "color": "#2a3f5f"
          },
          "geo": {
           "bgcolor": "white",
           "lakecolor": "white",
           "landcolor": "#E5ECF6",
           "showlakes": true,
           "showland": true,
           "subunitcolor": "white"
          },
          "hoverlabel": {
           "align": "left"
          },
          "hovermode": "closest",
          "mapbox": {
           "style": "light"
          },
          "paper_bgcolor": "white",
          "plot_bgcolor": "#E5ECF6",
          "polar": {
           "angularaxis": {
            "gridcolor": "white",
            "linecolor": "white",
            "ticks": ""
           },
           "bgcolor": "#E5ECF6",
           "radialaxis": {
            "gridcolor": "white",
            "linecolor": "white",
            "ticks": ""
           }
          },
          "scene": {
           "xaxis": {
            "backgroundcolor": "#E5ECF6",
            "gridcolor": "white",
            "gridwidth": 2,
            "linecolor": "white",
            "showbackground": true,
            "ticks": "",
            "zerolinecolor": "white"
           },
           "yaxis": {
            "backgroundcolor": "#E5ECF6",
            "gridcolor": "white",
            "gridwidth": 2,
            "linecolor": "white",
            "showbackground": true,
            "ticks": "",
            "zerolinecolor": "white"
           },
           "zaxis": {
            "backgroundcolor": "#E5ECF6",
            "gridcolor": "white",
            "gridwidth": 2,
            "linecolor": "white",
            "showbackground": true,
            "ticks": "",
            "zerolinecolor": "white"
           }
          },
          "shapedefaults": {
           "line": {
            "color": "#2a3f5f"
           }
          },
          "ternary": {
           "aaxis": {
            "gridcolor": "white",
            "linecolor": "white",
            "ticks": ""
           },
           "baxis": {
            "gridcolor": "white",
            "linecolor": "white",
            "ticks": ""
           },
           "bgcolor": "#E5ECF6",
           "caxis": {
            "gridcolor": "white",
            "linecolor": "white",
            "ticks": ""
           }
          },
          "title": {
           "x": 0.05
          },
          "xaxis": {
           "automargin": true,
           "gridcolor": "white",
           "linecolor": "white",
           "ticks": "",
           "title": {
            "standoff": 15
           },
           "zerolinecolor": "white",
           "zerolinewidth": 2
          },
          "yaxis": {
           "automargin": true,
           "gridcolor": "white",
           "linecolor": "white",
           "ticks": "",
           "title": {
            "standoff": 15
           },
           "zerolinecolor": "white",
           "zerolinewidth": 2
          }
         }
        }
       }
      }
     },
     "metadata": {},
     "output_type": "display_data"
    },
    {
     "data": {
      "image/png": "[encoded data removed]",
      "text/plain": [
       "<Figure size 300x300 with 1 Axes>"
      ]
     },
     "metadata": {
      "needs_background": "light"
     },
     "output_type": "display_data"
    },
    {
     "data": {
      "image/png": "[encoded data removed]",
      "text/plain": [
       "<Figure size 640x480 with 1 Axes>"
      ]
     },
     "metadata": {
      "needs_background": "light"
     },
     "output_type": "display_data"
    },
    {
     "data": {
      "application/vnd.plotly.v1+json": {
       "config": {
        "plotlyServerURL": "https://plot.ly"
       },
       "data": [
        {
         "fill": "toself",
         "hovertemplate": "r=%{r}<br>theta=%{theta}<extra></extra>",
         "legendgroup": "",
         "line": {
          "color": "#636efa",
          "dash": "solid"
         },
         "marker": {
          "symbol": "circle"
         },
         "mode": "lines",
         "name": "",
         "r": [
          1.0859512792388515,
          1.099327203475232,
          1.7424817223385736,
          0.8749003219680932,
          0.9837970435905551,
          1.0859512792388515
         ],
         "showlegend": false,
         "subplot": "polar",
         "theta": [
          "CK7",
          "ECadherin",
          "MHCI",
          "Ki67",
          "yH2AX",
          "CK7"
         ],
         "type": "scatterpolar"
        }
       ],
       "layout": {
        "font": {
         "size": 32
        },
        "legend": {
         "tracegroupgap": 0
        },
        "margin": {
         "t": 60
        },
        "paper_bgcolor": "rgba(0, 0, 0, 0)",
        "plot_bgcolor": "rgba(0, 0, 0, 0)",
        "polar": {
         "angularaxis": {
          "direction": "clockwise",
          "rotation": 90
         },
         "domain": {
          "x": [
           0,
           1
          ],
          "y": [
           0,
           1
          ]
         },
         "radialaxis": {
          "range": [
           0,
           2.2
          ],
          "tickvals": [
           0.5,
           1,
           1.5
          ]
         }
        },
        "template": {
         "data": {
          "bar": [
           {
            "error_x": {
             "color": "#2a3f5f"
            },
            "error_y": {
             "color": "#2a3f5f"
            },
            "marker": {
             "line": {
              "color": "#E5ECF6",
              "width": 0.5
             },
             "pattern": {
              "fillmode": "overlay",
              "size": 10,
              "solidity": 0.2
             }
            },
            "type": "bar"
           }
          ],
          "barpolar": [
           {
            "marker": {
             "line": {
              "color": "#E5ECF6",
              "width": 0.5
             },
             "pattern": {
              "fillmode": "overlay",
              "size": 10,
              "solidity": 0.2
             }
            },
            "type": "barpolar"
           }
          ],
          "carpet": [
           {
            "aaxis": {
             "endlinecolor": "#2a3f5f",
             "gridcolor": "white",
             "linecolor": "white",
             "minorgridcolor": "white",
             "startlinecolor": "#2a3f5f"
            },
            "baxis": {
             "endlinecolor": "#2a3f5f",
             "gridcolor": "white",
             "linecolor": "white",
             "minorgridcolor": "white",
             "startlinecolor": "#2a3f5f"
            },
            "type": "carpet"
           }
          ],
          "choropleth": [
           {
            "colorbar": {
             "outlinewidth": 0,
             "ticks": ""
            },
            "type": "choropleth"
           }
          ],
          "contour": [
           {
            "colorbar": {
             "outlinewidth": 0,
             "ticks": ""
            },
            "colorscale": [
             [
              0,
              "#0d0887"
             ],
             [
              0.1111111111111111,
              "#46039f"
             ],
             [
              0.2222222222222222,
              "#7201a8"
             ],
             [
              0.3333333333333333,
              "#9c179e"
             ],
             [
              0.4444444444444444,
              "#bd3786"
             ],
             [
              0.5555555555555556,
              "#d8576b"
             ],
             [
              0.6666666666666666,
              "#ed7953"
             ],
             [
              0.7777777777777778,
              "#fb9f3a"
             ],
             [
              0.8888888888888888,
              "#fdca26"
             ],
             [
              1,
              "#f0f921"
             ]
            ],
            "type": "contour"
           }
          ],
          "contourcarpet": [
           {
            "colorbar": {
             "outlinewidth": 0,
             "ticks": ""
            },
            "type": "contourcarpet"
           }
          ],
          "heatmap": [
           {
            "colorbar": {
             "outlinewidth": 0,
             "ticks": ""
            },
            "colorscale": [
             [
              0,
              "#0d0887"
             ],
             [
              0.1111111111111111,
              "#46039f"
             ],
             [
              0.2222222222222222,
              "#7201a8"
             ],
             [
              0.3333333333333333,
              "#9c179e"
             ],
             [
              0.4444444444444444,
              "#bd3786"
             ],
             [
              0.5555555555555556,
              "#d8576b"
             ],
             [
              0.6666666666666666,
              "#ed7953"
             ],
             [
              0.7777777777777778,
              "#fb9f3a"
             ],
             [
              0.8888888888888888,
              "#fdca26"
             ],
             [
              1,
              "#f0f921"
             ]
            ],
            "type": "heatmap"
           }
          ],
          "heatmapgl": [
           {
            "colorbar": {
             "outlinewidth": 0,
             "ticks": ""
            },
            "colorscale": [
             [
              0,
              "#0d0887"
             ],
             [
              0.1111111111111111,
              "#46039f"
             ],
             [
              0.2222222222222222,
              "#7201a8"
             ],
             [
              0.3333333333333333,
              "#9c179e"
             ],
             [
              0.4444444444444444,
              "#bd3786"
             ],
             [
              0.5555555555555556,
              "#d8576b"
             ],
             [
              0.6666666666666666,
              "#ed7953"
             ],
             [
              0.7777777777777778,
              "#fb9f3a"
             ],
             [
              0.8888888888888888,
              "#fdca26"
             ],
             [
              1,
              "#f0f921"
             ]
            ],
            "type": "heatmapgl"
           }
          ],
          "histogram": [
           {
            "marker": {
             "pattern": {
              "fillmode": "overlay",
              "size": 10,
              "solidity": 0.2
             }
            },
            "type": "histogram"
           }
          ],
          "histogram2d": [
           {
            "colorbar": {
             "outlinewidth": 0,
             "ticks": ""
            },
            "colorscale": [
             [
              0,
              "#0d0887"
             ],
             [
              0.1111111111111111,
              "#46039f"
             ],
             [
              0.2222222222222222,
              "#7201a8"
             ],
             [
              0.3333333333333333,
              "#9c179e"
             ],
             [
              0.4444444444444444,
              "#bd3786"
             ],
             [
              0.5555555555555556,
              "#d8576b"
             ],
             [
              0.6666666666666666,
              "#ed7953"
             ],
             [
              0.7777777777777778,
              "#fb9f3a"
             ],
             [
              0.8888888888888888,
              "#fdca26"
             ],
             [
              1,
              "#f0f921"
             ]
            ],
            "type": "histogram2d"
           }
          ],
          "histogram2dcontour": [
           {
            "colorbar": {
             "outlinewidth": 0,
             "ticks": ""
            },
            "colorscale": [
             [
              0,
              "#0d0887"
             ],
             [
              0.1111111111111111,
              "#46039f"
             ],
             [
              0.2222222222222222,
              "#7201a8"
             ],
             [
              0.3333333333333333,
              "#9c179e"
             ],
             [
              0.4444444444444444,
              "#bd3786"
             ],
             [
              0.5555555555555556,
              "#d8576b"
             ],
             [
              0.6666666666666666,
              "#ed7953"
             ],
             [
              0.7777777777777778,
              "#fb9f3a"
             ],
             [
              0.8888888888888888,
              "#fdca26"
             ],
             [
              1,
              "#f0f921"
             ]
            ],
            "type": "histogram2dcontour"
           }
          ],
          "mesh3d": [
           {
            "colorbar": {
             "outlinewidth": 0,
             "ticks": ""
            },
            "type": "mesh3d"
           }
          ],
          "parcoords": [
           {
            "line": {
             "colorbar": {
              "outlinewidth": 0,
              "ticks": ""
             }
            },
            "type": "parcoords"
           }
          ],
          "pie": [
           {
            "automargin": true,
            "type": "pie"
           }
          ],
          "scatter": [
           {
            "fillpattern": {
             "fillmode": "overlay",
             "size": 10,
             "solidity": 0.2
            },
            "type": "scatter"
           }
          ],
          "scatter3d": [
           {
            "line": {
             "colorbar": {
              "outlinewidth": 0,
              "ticks": ""
             }
            },
            "marker": {
             "colorbar": {
              "outlinewidth": 0,
              "ticks": ""
             }
            },
            "type": "scatter3d"
           }
          ],
          "scattercarpet": [
           {
            "marker": {
             "colorbar": {
              "outlinewidth": 0,
              "ticks": ""
             }
            },
            "type": "scattercarpet"
           }
          ],
          "scattergeo": [
           {
            "marker": {
             "colorbar": {
              "outlinewidth": 0,
              "ticks": ""
             }
            },
            "type": "scattergeo"
           }
          ],
          "scattergl": [
           {
            "marker": {
             "colorbar": {
              "outlinewidth": 0,
              "ticks": ""
             }
            },
            "type": "scattergl"
           }
          ],
          "scattermapbox": [
           {
            "marker": {
             "colorbar": {
              "outlinewidth": 0,
              "ticks": ""
             }
            },
            "type": "scattermapbox"
           }
          ],
          "scatterpolar": [
           {
            "marker": {
             "colorbar": {
              "outlinewidth": 0,
              "ticks": ""
             }
            },
            "type": "scatterpolar"
           }
          ],
          "scatterpolargl": [
           {
            "marker": {
             "colorbar": {
              "outlinewidth": 0,
              "ticks": ""
             }
            },
            "type": "scatterpolargl"
           }
          ],
          "scatterternary": [
           {
            "marker": {
             "colorbar": {
              "outlinewidth": 0,
              "ticks": ""
             }
            },
            "type": "scatterternary"
           }
          ],
          "surface": [
           {
            "colorbar": {
             "outlinewidth": 0,
             "ticks": ""
            },
            "colorscale": [
             [
              0,
              "#0d0887"
             ],
             [
              0.1111111111111111,
              "#46039f"
             ],
             [
              0.2222222222222222,
              "#7201a8"
             ],
             [
              0.3333333333333333,
              "#9c179e"
             ],
             [
              0.4444444444444444,
              "#bd3786"
             ],
             [
              0.5555555555555556,
              "#d8576b"
             ],
             [
              0.6666666666666666,
              "#ed7953"
             ],
             [
              0.7777777777777778,
              "#fb9f3a"
             ],
             [
              0.8888888888888888,
              "#fdca26"
             ],
             [
              1,
              "#f0f921"
             ]
            ],
            "type": "surface"
           }
          ],
          "table": [
           {
            "cells": {
             "fill": {
              "color": "#EBF0F8"
             },
             "line": {
              "color": "white"
             }
            },
            "header": {
             "fill": {
              "color": "#C8D4E3"
             },
             "line": {
              "color": "white"
             }
            },
            "type": "table"
           }
          ]
         },
         "layout": {
          "annotationdefaults": {
           "arrowcolor": "#2a3f5f",
           "arrowhead": 0,
           "arrowwidth": 1
          },
          "autotypenumbers": "strict",
          "coloraxis": {
           "colorbar": {
            "outlinewidth": 0,
            "ticks": ""
           }
          },
          "colorscale": {
           "diverging": [
            [
             0,
             "#8e0152"
            ],
            [
             0.1,
             "#c51b7d"
            ],
            [
             0.2,
             "#de77ae"
            ],
            [
             0.3,
             "#f1b6da"
            ],
            [
             0.4,
             "#fde0ef"
            ],
            [
             0.5,
             "#f7f7f7"
            ],
            [
             0.6,
             "#e6f5d0"
            ],
            [
             0.7,
             "#b8e186"
            ],
            [
             0.8,
             "#7fbc41"
            ],
            [
             0.9,
             "#4d9221"
            ],
            [
             1,
             "#276419"
            ]
           ],
           "sequential": [
            [
             0,
             "#0d0887"
            ],
            [
             0.1111111111111111,
             "#46039f"
            ],
            [
             0.2222222222222222,
             "#7201a8"
            ],
            [
             0.3333333333333333,
             "#9c179e"
            ],
            [
             0.4444444444444444,
             "#bd3786"
            ],
            [
             0.5555555555555556,
             "#d8576b"
            ],
            [
             0.6666666666666666,
             "#ed7953"
            ],
            [
             0.7777777777777778,
             "#fb9f3a"
            ],
            [
             0.8888888888888888,
             "#fdca26"
            ],
            [
             1,
             "#f0f921"
            ]
           ],
           "sequentialminus": [
            [
             0,
             "#0d0887"
            ],
            [
             0.1111111111111111,
             "#46039f"
            ],
            [
             0.2222222222222222,
             "#7201a8"
            ],
            [
             0.3333333333333333,
             "#9c179e"
            ],
            [
             0.4444444444444444,
             "#bd3786"
            ],
            [
             0.5555555555555556,
             "#d8576b"
            ],
            [
             0.6666666666666666,
             "#ed7953"
            ],
            [
             0.7777777777777778,
             "#fb9f3a"
            ],
            [
             0.8888888888888888,
             "#fdca26"
            ],
            [
             1,
             "#f0f921"
            ]
           ]
          },
          "colorway": [
           "#636efa",
           "#EF553B",
           "#00cc96",
           "#ab63fa",
           "#FFA15A",
           "#19d3f3",
           "#FF6692",
           "#B6E880",
           "#FF97FF",
           "#FECB52"
          ],
          "font": {
           "color": "#2a3f5f"
          },
          "geo": {
           "bgcolor": "white",
           "lakecolor": "white",
           "landcolor": "#E5ECF6",
           "showlakes": true,
           "showland": true,
           "subunitcolor": "white"
          },
          "hoverlabel": {
           "align": "left"
          },
          "hovermode": "closest",
          "mapbox": {
           "style": "light"
          },
          "paper_bgcolor": "white",
          "plot_bgcolor": "#E5ECF6",
          "polar": {
           "angularaxis": {
            "gridcolor": "white",
            "linecolor": "white",
            "ticks": ""
           },
           "bgcolor": "#E5ECF6",
           "radialaxis": {
            "gridcolor": "white",
            "linecolor": "white",
            "ticks": ""
           }
          },
          "scene": {
           "xaxis": {
            "backgroundcolor": "#E5ECF6",
            "gridcolor": "white",
            "gridwidth": 2,
            "linecolor": "white",
            "showbackground": true,
            "ticks": "",
            "zerolinecolor": "white"
           },
           "yaxis": {
            "backgroundcolor": "#E5ECF6",
            "gridcolor": "white",
            "gridwidth": 2,
            "linecolor": "white",
            "showbackground": true,
            "ticks": "",
            "zerolinecolor": "white"
           },
           "zaxis": {
            "backgroundcolor": "#E5ECF6",
            "gridcolor": "white",
            "gridwidth": 2,
            "linecolor": "white",
            "showbackground": true,
            "ticks": "",
            "zerolinecolor": "white"
           }
          },
          "shapedefaults": {
           "line": {
            "color": "#2a3f5f"
           }
          },
          "ternary": {
           "aaxis": {
            "gridcolor": "white",
            "linecolor": "white",
            "ticks": ""
           },
           "baxis": {
            "gridcolor": "white",
            "linecolor": "white",
            "ticks": ""
           },
           "bgcolor": "#E5ECF6",
           "caxis": {
            "gridcolor": "white",
            "linecolor": "white",
            "ticks": ""
           }
          },
          "title": {
           "x": 0.05
          },
          "xaxis": {
           "automargin": true,
           "gridcolor": "white",
           "linecolor": "white",
           "ticks": "",
           "title": {
            "standoff": 15
           },
           "zerolinecolor": "white",
           "zerolinewidth": 2
          },
          "yaxis": {
           "automargin": true,
           "gridcolor": "white",
           "linecolor": "white",
           "ticks": "",
           "title": {
            "standoff": 15
           },
           "zerolinecolor": "white",
           "zerolinewidth": 2
          }
         }
        }
       }
      }
     },
     "metadata": {},
     "output_type": "display_data"
    },
    {
     "data": {
      "image/png": "[encoded data removed]",
      "text/plain": [
       "<Figure size 300x500 with 2 Axes>"
      ]
     },
     "metadata": {
      "needs_background": "light"
     },
     "output_type": "display_data"
    },
    {
     "data": {
      "image/png": "[encoded data removed]",
      "text/plain": [
       "<Figure size 300x500 with 2 Axes>"
      ]
     },
     "metadata": {
      "needs_background": "light"
     },
     "output_type": "display_data"
    }
   ],
   "source": [
    "for therapy in ['PDS', 'IDS']: \n",
    "    \n",
    "    if therapy == 'PDS':\n",
    "        chosen_cancer1_results = ['Cancer_BRCAloss_vs_HRP_PDS','Cancer_BRCAloss_vs_CCNE1amp_PDS','Cancer_HRP_vs_HRD_PDS']\n",
    "        chosen_cancer2_results = ['Cancer_BRCAloss_vs_HRP_PDS','Cancer_BRCAloss_vs_CCNE1amp_PDS','Cancer_HRP_vs_HRD_PDS']\n",
    "        chosen_non_cancer_results = ['Immune-stromal_BRCAloss_vs_HRP_PDS','Immune-stromal_BRCAloss_vs_CCNE1amp_PDS','Immune-stromal_HRP_vs_HRD_PDS']\n",
    "        chosen_all_results = ['All_BRCAloss_vs_HRP_PDS','All_BRCAloss_vs_CCNE1amp_PDS','All_HRP_vs_HRD_PDS']\n",
    "    elif therapy == 'IDS':\n",
    "        chosen_cancer1_results = ['Cancer_BRCAloss_vs_HRP_IDS','Cancer_BRCAloss_vs_CCNE1amp_IDS','Cancer_HRP_vs_HRD_IDS']\n",
    "        chosen_cancer2_results = ['Cancer_BRCAloss_vs_HRP_IDS','Cancer_BRCAloss_vs_CCNE1amp_IDS','Cancer_HRP_vs_HRD_IDS']\n",
    "        chosen_non_cancer_results = ['Immune-stromal_BRCAloss_vs_HRP_IDS','Immune-stromal_BRCAloss_vs_CCNE1amp_IDS','Immune-stromal_HRP_vs_HRD_IDS']\n",
    "        chosen_all_results = ['All_BRCAloss_vs_HRP_IDS', 'All_BRCAloss_vs_CCNE1amp_IDS', 'All_HRP_vs_HRD_IDS']\n",
    "    \n",
    "    result_df = pd.DataFrame(columns=['CellType', 'Marker'])\n",
    "\n",
    "    # Process Cancer1 Results\n",
    "    result_df = analysis_of_molprofiles_results.process_results(cells_df, chosen_cancer1_results, config['cancer1_folder_path'], 'Cancer', result_df, 'heatmap')\n",
    "\n",
    "    # Process Cancer2 Results\n",
    "    result_df = analysis_of_molprofiles_results.process_results(cells_df, chosen_cancer2_results, config['cancer2_folder_path'], 'Cancer', result_df, 'heatmap')\n",
    "\n",
    "    # Process Non-Cancer Results\n",
    "    result_df = analysis_of_molprofiles_results.process_results(cells_df, chosen_non_cancer_results, config['non_cancer_folder_path'], 'Non-cancer', result_df, 'heatmap')\n",
    "\n",
    "    # Process All Results\n",
    "    result_df = analysis_of_molprofiles_results.process_results(cells_df, chosen_all_results, config['all_folder_path'], 'All', result_df, 'heatmap')\n",
    "    \n",
    "    analysis_of_molprofiles_results.create_heatmap_mean_value_per_marker(cells_df, therapy, result_df)"
   ]
  },
  {
   "cell_type": "markdown",
   "metadata": {},
   "source": [
    "### Oncogrid with top five predictive features and their MDA scores across four cell types: All.cells, Cancer.full.panel, Cancer, Immune-stromal.\n",
    "\n",
    "Plot illustrating the top five predictive features for three selected comparisons, categorized by cell type. Each square of grid within the plot represents the importance of a feature based on the median MDA score across 30 splits for a specific comparison within a particular cell type. Squares shaded in grey indicate features removed from the corresponding analysis."
   ]
  },
  {
   "cell_type": "code",
   "execution_count": 5,
   "metadata": {},
   "outputs": [
    {
     "data": {
      "image/png": "[encoded data removed]",
      "text/plain": [
       "<Figure size 800x800 with 2 Axes>"
      ]
     },
     "metadata": {
      "needs_background": "light"
     },
     "output_type": "display_data"
    },
    {
     "data": {
      "image/png": "[encoded data removed]",
      "text/plain": [
       "<Figure size 800x800 with 2 Axes>"
      ]
     },
     "metadata": {
      "needs_background": "light"
     },
     "output_type": "display_data"
    }
   ],
   "source": [
    "for therapy in ['PDS', 'IDS']:\n",
    "    \n",
    "    if therapy == 'PDS':\n",
    "        chosen_cancer1_results = ['Cancer_BRCAloss_vs_HRP_PDS','Cancer_BRCAloss_vs_CCNE1amp_PDS','Cancer_HRP_VS_HRD_PDS']\n",
    "        chosen_cancer2_results = ['Cancer_BRCAloss_vs_HRP_PDS','Cancer_BRCAloss_vs_CCNE1amp_PDS','Cancer_HRP_VS_HRD_PDS']\n",
    "        chosen_non_cancer_results = ['Immune-stromal_BRCAloss_vs_HRP_PDS','Immune-stromal_BRCAloss_vs_CCNE1amp_PDS','Immune-stromal_HRP_VS_HRD_PDS']\n",
    "        chosen_all_results = ['All_BRCAloss_vs_HRP_PDS','All_BRCAloss_vs_CCNE1amp_PDS','All_HRP_VS_HRD_PDS']\n",
    "\n",
    "    elif therapy == 'IDS':\n",
    "        chosen_cancer1_results = ['Cancer_BRCAloss_vs_HRP_IDS','Cancer_BRCAloss_vs_CCNE1amp_IDS','Cancer_HRP_VS_HRD_IDS']\n",
    "        chosen_cancer2_results = ['Cancer_BRCAloss_vs_HRP_IDS','Cancer_BRCAloss_vs_CCNE1amp_IDS','Cancer_HRP_VS_HRD_IDS']\n",
    "        chosen_non_cancer_results = ['Immune-stromal_BRCAloss_vs_HRP_IDS','Immune-stromal_BRCAloss_vs_CCNE1amp_IDS','Immune-stromal_HRP_VS_HRD_IDS']\n",
    "        chosen_all_results = ['All_BRCAloss_vs_HRP_IDS', 'All_BRCAloss_vs_CCNE1amp_IDS', 'All_HRP_VS_HRD_IDS']\n",
    "        \n",
    "    result_df = pd.DataFrame()\n",
    "    \n",
    "    # Process All Results\n",
    "    result_df = analysis_of_molprofiles_results.process_results(cells_df, chosen_all_results, config['all_folder_path'], 'All', result_df, 'oncogrid')\n",
    "\n",
    "    # Process Cancer1 Results\n",
    "    result_df = analysis_of_molprofiles_results.process_results(cells_df, chosen_cancer1_results, config['cancer1_folder_path'], 'Cancer1', result_df, 'oncogrid')\n",
    "\n",
    "    # Process Cancer2 Results\n",
    "    result_df = analysis_of_molprofiles_results.process_results(cells_df, chosen_cancer2_results, config['cancer2_folder_path'], 'Cancer2', result_df, 'oncogrid')\n",
    "\n",
    "    # Process Non-Cancer Results\n",
    "    result_df = analysis_of_molprofiles_results.process_results(cells_df, chosen_non_cancer_results, config['non_cancer_folder_path'], 'Non-cancer', result_df, 'oncogrid')\n",
    "    \n",
    "    analysis_of_molprofiles_results.plot_oncogrid_of_pred_features(result_df, 'mol_profile', therapy)"
   ]
  },
  {
   "cell_type": "markdown",
   "metadata": {},
   "source": [
    "### Characterisation of cell populations across molecular profiles. \n",
    "\n",
    "Pre-processed markers intensities ratios of four molecular profiles across three cell types: Cancer, Stromal, and Immune, CD4+ and CD8+ T cells are plotted on three spider plots"
   ]
  },
  {
   "cell_type": "code",
   "execution_count": 6,
   "metadata": {},
   "outputs": [
    {
     "data": {
      "application/vnd.plotly.v1+json": {
       "config": {
        "plotlyServerURL": "https://plot.ly"
       },
       "data": [
        {
         "hovertemplate": "Molecular profiles=BRCAmutmet<br>r=%{r}<br>theta=%{theta}<extra></extra>",
         "legendgroup": "BRCAmutmet",
         "line": {
          "color": "#D33F49",
          "dash": "solid"
         },
         "marker": {
          "symbol": "circle"
         },
         "mode": "lines",
         "name": "BRCAmutmet",
         "r": [
          0.36900278922554663,
          0.1199666232467733,
          -0.21023972116498937,
          0.6439424540882331,
          0.36900278922554663
         ],
         "showlegend": true,
         "subplot": "polar",
         "theta": [
          "MHCI",
          "MHCII",
          "Ki67",
          "ECadherin",
          "MHCI"
         ],
         "type": "scatterpolar"
        },
        {
         "hovertemplate": "Molecular profiles=HRD<br>r=%{r}<br>theta=%{theta}<extra></extra>",
         "legendgroup": "HRD",
         "line": {
          "color": "#FED18C",
          "dash": "solid"
         },
         "marker": {
          "symbol": "circle"
         },
         "mode": "lines",
         "name": "HRD",
         "r": [
          0.06835377319642272,
          -0.18706969465962192,
          -0.3424971110528038,
          0.25679751778278886,
          0.06835377319642272
         ],
         "showlegend": true,
         "subplot": "polar",
         "theta": [
          "MHCI",
          "MHCII",
          "Ki67",
          "ECadherin",
          "MHCI"
         ],
         "type": "scatterpolar"
        },
        {
         "hovertemplate": "Molecular profiles=HRP<br>r=%{r}<br>theta=%{theta}<extra></extra>",
         "legendgroup": "HRP",
         "line": {
          "color": "#508791",
          "dash": "solid"
         },
         "marker": {
          "symbol": "circle"
         },
         "mode": "lines",
         "name": "HRP",
         "r": [
          -0.0971833570430563,
          -0.5825401551428102,
          0.042061394525593904,
          0.2340194174438978,
          -0.0971833570430563
         ],
         "showlegend": true,
         "subplot": "polar",
         "theta": [
          "MHCI",
          "MHCII",
          "Ki67",
          "ECadherin",
          "MHCI"
         ],
         "type": "scatterpolar"
        },
        {
         "hovertemplate": "Molecular profiles=CCNE1amp<br>r=%{r}<br>theta=%{theta}<extra></extra>",
         "legendgroup": "CCNE1amp",
         "line": {
          "color": "#A7AEF2",
          "dash": "solid"
         },
         "marker": {
          "symbol": "circle"
         },
         "mode": "lines",
         "name": "CCNE1amp",
         "r": [
          0.43195952202711296,
          -0.40042156106669025,
          -0.04794144455026947,
          0.16997883481214304,
          0.43195952202711296
         ],
         "showlegend": true,
         "subplot": "polar",
         "theta": [
          "MHCI",
          "MHCII",
          "Ki67",
          "ECadherin",
          "MHCI"
         ],
         "type": "scatterpolar"
        }
       ],
       "layout": {
        "font": {
         "size": 20
        },
        "legend": {
         "title": {
          "text": "Molecular profiles"
         },
         "tracegroupgap": 0
        },
        "margin": {
         "t": 60
        },
        "paper_bgcolor": "rgba(0, 0, 0, 0)",
        "plot_bgcolor": "rgba(0, 0, 0, 0)",
        "polar": {
         "angularaxis": {
          "direction": "clockwise",
          "rotation": 90
         },
         "domain": {
          "x": [
           0,
           1
          ],
          "y": [
           0,
           1
          ]
         },
         "radialaxis": {
          "range": [
           -0.5825401551428102,
           0.6439424540882331
          ]
         }
        },
        "template": {
         "data": {
          "bar": [
           {
            "error_x": {
             "color": "#2a3f5f"
            },
            "error_y": {
             "color": "#2a3f5f"
            },
            "marker": {
             "line": {
              "color": "#E5ECF6",
              "width": 0.5
             },
             "pattern": {
              "fillmode": "overlay",
              "size": 10,
              "solidity": 0.2
             }
            },
            "type": "bar"
           }
          ],
          "barpolar": [
           {
            "marker": {
             "line": {
              "color": "#E5ECF6",
              "width": 0.5
             },
             "pattern": {
              "fillmode": "overlay",
              "size": 10,
              "solidity": 0.2
             }
            },
            "type": "barpolar"
           }
          ],
          "carpet": [
           {
            "aaxis": {
             "endlinecolor": "#2a3f5f",
             "gridcolor": "white",
             "linecolor": "white",
             "minorgridcolor": "white",
             "startlinecolor": "#2a3f5f"
            },
            "baxis": {
             "endlinecolor": "#2a3f5f",
             "gridcolor": "white",
             "linecolor": "white",
             "minorgridcolor": "white",
             "startlinecolor": "#2a3f5f"
            },
            "type": "carpet"
           }
          ],
          "choropleth": [
           {
            "colorbar": {
             "outlinewidth": 0,
             "ticks": ""
            },
            "type": "choropleth"
           }
          ],
          "contour": [
           {
            "colorbar": {
             "outlinewidth": 0,
             "ticks": ""
            },
            "colorscale": [
             [
              0,
              "#0d0887"
             ],
             [
              0.1111111111111111,
              "#46039f"
             ],
             [
              0.2222222222222222,
              "#7201a8"
             ],
             [
              0.3333333333333333,
              "#9c179e"
             ],
             [
              0.4444444444444444,
              "#bd3786"
             ],
             [
              0.5555555555555556,
              "#d8576b"
             ],
             [
              0.6666666666666666,
              "#ed7953"
             ],
             [
              0.7777777777777778,
              "#fb9f3a"
             ],
             [
              0.8888888888888888,
              "#fdca26"
             ],
             [
              1,
              "#f0f921"
             ]
            ],
            "type": "contour"
           }
          ],
          "contourcarpet": [
           {
            "colorbar": {
             "outlinewidth": 0,
             "ticks": ""
            },
            "type": "contourcarpet"
           }
          ],
          "heatmap": [
           {
            "colorbar": {
             "outlinewidth": 0,
             "ticks": ""
            },
            "colorscale": [
             [
              0,
              "#0d0887"
             ],
             [
              0.1111111111111111,
              "#46039f"
             ],
             [
              0.2222222222222222,
              "#7201a8"
             ],
             [
              0.3333333333333333,
              "#9c179e"
             ],
             [
              0.4444444444444444,
              "#bd3786"
             ],
             [
              0.5555555555555556,
              "#d8576b"
             ],
             [
              0.6666666666666666,
              "#ed7953"
             ],
             [
              0.7777777777777778,
              "#fb9f3a"
             ],
             [
              0.8888888888888888,
              "#fdca26"
             ],
             [
              1,
              "#f0f921"
             ]
            ],
            "type": "heatmap"
           }
          ],
          "heatmapgl": [
           {
            "colorbar": {
             "outlinewidth": 0,
             "ticks": ""
            },
            "colorscale": [
             [
              0,
              "#0d0887"
             ],
             [
              0.1111111111111111,
              "#46039f"
             ],
             [
              0.2222222222222222,
              "#7201a8"
             ],
             [
              0.3333333333333333,
              "#9c179e"
             ],
             [
              0.4444444444444444,
              "#bd3786"
             ],
             [
              0.5555555555555556,
              "#d8576b"
             ],
             [
              0.6666666666666666,
              "#ed7953"
             ],
             [
              0.7777777777777778,
              "#fb9f3a"
             ],
             [
              0.8888888888888888,
              "#fdca26"
             ],
             [
              1,
              "#f0f921"
             ]
            ],
            "type": "heatmapgl"
           }
          ],
          "histogram": [
           {
            "marker": {
             "pattern": {
              "fillmode": "overlay",
              "size": 10,
              "solidity": 0.2
             }
            },
            "type": "histogram"
           }
          ],
          "histogram2d": [
           {
            "colorbar": {
             "outlinewidth": 0,
             "ticks": ""
            },
            "colorscale": [
             [
              0,
              "#0d0887"
             ],
             [
              0.1111111111111111,
              "#46039f"
             ],
             [
              0.2222222222222222,
              "#7201a8"
             ],
             [
              0.3333333333333333,
              "#9c179e"
             ],
             [
              0.4444444444444444,
              "#bd3786"
             ],
             [
              0.5555555555555556,
              "#d8576b"
             ],
             [
              0.6666666666666666,
              "#ed7953"
             ],
             [
              0.7777777777777778,
              "#fb9f3a"
             ],
             [
              0.8888888888888888,
              "#fdca26"
             ],
             [
              1,
              "#f0f921"
             ]
            ],
            "type": "histogram2d"
           }
          ],
          "histogram2dcontour": [
           {
            "colorbar": {
             "outlinewidth": 0,
             "ticks": ""
            },
            "colorscale": [
             [
              0,
              "#0d0887"
             ],
             [
              0.1111111111111111,
              "#46039f"
             ],
             [
              0.2222222222222222,
              "#7201a8"
             ],
             [
              0.3333333333333333,
              "#9c179e"
             ],
             [
              0.4444444444444444,
              "#bd3786"
             ],
             [
              0.5555555555555556,
              "#d8576b"
             ],
             [
              0.6666666666666666,
              "#ed7953"
             ],
             [
              0.7777777777777778,
              "#fb9f3a"
             ],
             [
              0.8888888888888888,
              "#fdca26"
             ],
             [
              1,
              "#f0f921"
             ]
            ],
            "type": "histogram2dcontour"
           }
          ],
          "mesh3d": [
           {
            "colorbar": {
             "outlinewidth": 0,
             "ticks": ""
            },
            "type": "mesh3d"
           }
          ],
          "parcoords": [
           {
            "line": {
             "colorbar": {
              "outlinewidth": 0,
              "ticks": ""
             }
            },
            "type": "parcoords"
           }
          ],
          "pie": [
           {
            "automargin": true,
            "type": "pie"
           }
          ],
          "scatter": [
           {
            "fillpattern": {
             "fillmode": "overlay",
             "size": 10,
             "solidity": 0.2
            },
            "type": "scatter"
           }
          ],
          "scatter3d": [
           {
            "line": {
             "colorbar": {
              "outlinewidth": 0,
              "ticks": ""
             }
            },
            "marker": {
             "colorbar": {
              "outlinewidth": 0,
              "ticks": ""
             }
            },
            "type": "scatter3d"
           }
          ],
          "scattercarpet": [
           {
            "marker": {
             "colorbar": {
              "outlinewidth": 0,
              "ticks": ""
             }
            },
            "type": "scattercarpet"
           }
          ],
          "scattergeo": [
           {
            "marker": {
             "colorbar": {
              "outlinewidth": 0,
              "ticks": ""
             }
            },
            "type": "scattergeo"
           }
          ],
          "scattergl": [
           {
            "marker": {
             "colorbar": {
              "outlinewidth": 0,
              "ticks": ""
             }
            },
            "type": "scattergl"
           }
          ],
          "scattermapbox": [
           {
            "marker": {
             "colorbar": {
              "outlinewidth": 0,
              "ticks": ""
             }
            },
            "type": "scattermapbox"
           }
          ],
          "scatterpolar": [
           {
            "marker": {
             "colorbar": {
              "outlinewidth": 0,
              "ticks": ""
             }
            },
            "type": "scatterpolar"
           }
          ],
          "scatterpolargl": [
           {
            "marker": {
             "colorbar": {
              "outlinewidth": 0,
              "ticks": ""
             }
            },
            "type": "scatterpolargl"
           }
          ],
          "scatterternary": [
           {
            "marker": {
             "colorbar": {
              "outlinewidth": 0,
              "ticks": ""
             }
            },
            "type": "scatterternary"
           }
          ],
          "surface": [
           {
            "colorbar": {
             "outlinewidth": 0,
             "ticks": ""
            },
            "colorscale": [
             [
              0,
              "#0d0887"
             ],
             [
              0.1111111111111111,
              "#46039f"
             ],
             [
              0.2222222222222222,
              "#7201a8"
             ],
             [
              0.3333333333333333,
              "#9c179e"
             ],
             [
              0.4444444444444444,
              "#bd3786"
             ],
             [
              0.5555555555555556,
              "#d8576b"
             ],
             [
              0.6666666666666666,
              "#ed7953"
             ],
             [
              0.7777777777777778,
              "#fb9f3a"
             ],
             [
              0.8888888888888888,
              "#fdca26"
             ],
             [
              1,
              "#f0f921"
             ]
            ],
            "type": "surface"
           }
          ],
          "table": [
           {
            "cells": {
             "fill": {
              "color": "#EBF0F8"
             },
             "line": {
              "color": "white"
             }
            },
            "header": {
             "fill": {
              "color": "#C8D4E3"
             },
             "line": {
              "color": "white"
             }
            },
            "type": "table"
           }
          ]
         },
         "layout": {
          "annotationdefaults": {
           "arrowcolor": "#2a3f5f",
           "arrowhead": 0,
           "arrowwidth": 1
          },
          "autotypenumbers": "strict",
          "coloraxis": {
           "colorbar": {
            "outlinewidth": 0,
            "ticks": ""
           }
          },
          "colorscale": {
           "diverging": [
            [
             0,
             "#8e0152"
            ],
            [
             0.1,
             "#c51b7d"
            ],
            [
             0.2,
             "#de77ae"
            ],
            [
             0.3,
             "#f1b6da"
            ],
            [
             0.4,
             "#fde0ef"
            ],
            [
             0.5,
             "#f7f7f7"
            ],
            [
             0.6,
             "#e6f5d0"
            ],
            [
             0.7,
             "#b8e186"
            ],
            [
             0.8,
             "#7fbc41"
            ],
            [
             0.9,
             "#4d9221"
            ],
            [
             1,
             "#276419"
            ]
           ],
           "sequential": [
            [
             0,
             "#0d0887"
            ],
            [
             0.1111111111111111,
             "#46039f"
            ],
            [
             0.2222222222222222,
             "#7201a8"
            ],
            [
             0.3333333333333333,
             "#9c179e"
            ],
            [
             0.4444444444444444,
             "#bd3786"
            ],
            [
             0.5555555555555556,
             "#d8576b"
            ],
            [
             0.6666666666666666,
             "#ed7953"
            ],
            [
             0.7777777777777778,
             "#fb9f3a"
            ],
            [
             0.8888888888888888,
             "#fdca26"
            ],
            [
             1,
             "#f0f921"
            ]
           ],
           "sequentialminus": [
            [
             0,
             "#0d0887"
            ],
            [
             0.1111111111111111,
             "#46039f"
            ],
            [
             0.2222222222222222,
             "#7201a8"
            ],
            [
             0.3333333333333333,
             "#9c179e"
            ],
            [
             0.4444444444444444,
             "#bd3786"
            ],
            [
             0.5555555555555556,
             "#d8576b"
            ],
            [
             0.6666666666666666,
             "#ed7953"
            ],
            [
             0.7777777777777778,
             "#fb9f3a"
            ],
            [
             0.8888888888888888,
             "#fdca26"
            ],
            [
             1,
             "#f0f921"
            ]
           ]
          },
          "colorway": [
           "#636efa",
           "#EF553B",
           "#00cc96",
           "#ab63fa",
           "#FFA15A",
           "#19d3f3",
           "#FF6692",
           "#B6E880",
           "#FF97FF",
           "#FECB52"
          ],
          "font": {
           "color": "#2a3f5f"
          },
          "geo": {
           "bgcolor": "white",
           "lakecolor": "white",
           "landcolor": "#E5ECF6",
           "showlakes": true,
           "showland": true,
           "subunitcolor": "white"
          },
          "hoverlabel": {
           "align": "left"
          },
          "hovermode": "closest",
          "mapbox": {
           "style": "light"
          },
          "paper_bgcolor": "white",
          "plot_bgcolor": "#E5ECF6",
          "polar": {
           "angularaxis": {
            "gridcolor": "white",
            "linecolor": "white",
            "ticks": ""
           },
           "bgcolor": "#E5ECF6",
           "radialaxis": {
            "gridcolor": "white",
            "linecolor": "white",
            "ticks": ""
           }
          },
          "scene": {
           "xaxis": {
            "backgroundcolor": "#E5ECF6",
            "gridcolor": "white",
            "gridwidth": 2,
            "linecolor": "white",
            "showbackground": true,
            "ticks": "",
            "zerolinecolor": "white"
           },
           "yaxis": {
            "backgroundcolor": "#E5ECF6",
            "gridcolor": "white",
            "gridwidth": 2,
            "linecolor": "white",
            "showbackground": true,
            "ticks": "",
            "zerolinecolor": "white"
           },
           "zaxis": {
            "backgroundcolor": "#E5ECF6",
            "gridcolor": "white",
            "gridwidth": 2,
            "linecolor": "white",
            "showbackground": true,
            "ticks": "",
            "zerolinecolor": "white"
           }
          },
          "shapedefaults": {
           "line": {
            "color": "#2a3f5f"
           }
          },
          "ternary": {
           "aaxis": {
            "gridcolor": "white",
            "linecolor": "white",
            "ticks": ""
           },
           "baxis": {
            "gridcolor": "white",
            "linecolor": "white",
            "ticks": ""
           },
           "bgcolor": "#E5ECF6",
           "caxis": {
            "gridcolor": "white",
            "linecolor": "white",
            "ticks": ""
           }
          },
          "title": {
           "x": 0.05
          },
          "xaxis": {
           "automargin": true,
           "gridcolor": "white",
           "linecolor": "white",
           "ticks": "",
           "title": {
            "standoff": 15
           },
           "zerolinecolor": "white",
           "zerolinewidth": 2
          },
          "yaxis": {
           "automargin": true,
           "gridcolor": "white",
           "linecolor": "white",
           "ticks": "",
           "title": {
            "standoff": 15
           },
           "zerolinecolor": "white",
           "zerolinewidth": 2
          }
         }
        }
       }
      }
     },
     "metadata": {},
     "output_type": "display_data"
    },
    {
     "data": {
      "application/vnd.plotly.v1+json": {
       "config": {
        "plotlyServerURL": "https://plot.ly"
       },
       "data": [
        {
         "hovertemplate": "Molecular profiles=BRCAmutmet<br>r=%{r}<br>theta=%{theta}<extra></extra>",
         "legendgroup": "BRCAmutmet",
         "line": {
          "color": "#D33F49",
          "dash": "solid"
         },
         "marker": {
          "symbol": "circle"
         },
         "mode": "lines",
         "name": "BRCAmutmet",
         "r": [
          -0.431554081142113,
          -0.6259236797856236,
          -0.6846130983251948,
          -1.0911953608318887,
          -0.431554081142113
         ],
         "showlegend": true,
         "subplot": "polar",
         "theta": [
          "MHCI",
          "MHCII",
          "Ki67",
          "ECadherin",
          "MHCI"
         ],
         "type": "scatterpolar"
        },
        {
         "hovertemplate": "Molecular profiles=HRD<br>r=%{r}<br>theta=%{theta}<extra></extra>",
         "legendgroup": "HRD",
         "line": {
          "color": "#FED18C",
          "dash": "solid"
         },
         "marker": {
          "symbol": "circle"
         },
         "mode": "lines",
         "name": "HRD",
         "r": [
          -0.7043707910025702,
          -0.7406645931897797,
          -0.6419398286972481,
          -1.0112785590066409,
          -0.7043707910025702
         ],
         "showlegend": true,
         "subplot": "polar",
         "theta": [
          "MHCI",
          "MHCII",
          "Ki67",
          "ECadherin",
          "MHCI"
         ],
         "type": "scatterpolar"
        },
        {
         "hovertemplate": "Molecular profiles=HRP<br>r=%{r}<br>theta=%{theta}<extra></extra>",
         "legendgroup": "HRP",
         "line": {
          "color": "#508791",
          "dash": "solid"
         },
         "marker": {
          "symbol": "circle"
         },
         "mode": "lines",
         "name": "HRP",
         "r": [
          -1.0408374066766926,
          -0.7825714169757298,
          -0.6466851042600672,
          -1.084632928739914,
          -1.0408374066766926
         ],
         "showlegend": true,
         "subplot": "polar",
         "theta": [
          "MHCI",
          "MHCII",
          "Ki67",
          "ECadherin",
          "MHCI"
         ],
         "type": "scatterpolar"
        },
        {
         "hovertemplate": "Molecular profiles=CCNE1amp<br>r=%{r}<br>theta=%{theta}<extra></extra>",
         "legendgroup": "CCNE1amp",
         "line": {
          "color": "#A7AEF2",
          "dash": "solid"
         },
         "marker": {
          "symbol": "circle"
         },
         "mode": "lines",
         "name": "CCNE1amp",
         "r": [
          -0.5550194632151463,
          -0.5690333861274728,
          -0.6331253651756807,
          -1.1166636249856896,
          -0.5550194632151463
         ],
         "showlegend": true,
         "subplot": "polar",
         "theta": [
          "MHCI",
          "MHCII",
          "Ki67",
          "ECadherin",
          "MHCI"
         ],
         "type": "scatterpolar"
        }
       ],
       "layout": {
        "font": {
         "size": 20
        },
        "legend": {
         "title": {
          "text": "Molecular profiles"
         },
         "tracegroupgap": 0
        },
        "margin": {
         "t": 60
        },
        "paper_bgcolor": "rgba(0, 0, 0, 0)",
        "plot_bgcolor": "rgba(0, 0, 0, 0)",
        "polar": {
         "angularaxis": {
          "direction": "clockwise",
          "rotation": 90
         },
         "domain": {
          "x": [
           0,
           1
          ],
          "y": [
           0,
           1
          ]
         },
         "radialaxis": {
          "range": [
           -1.1166636249856896,
           -0.431554081142113
          ]
         }
        },
        "template": {
         "data": {
          "bar": [
           {
            "error_x": {
             "color": "#2a3f5f"
            },
            "error_y": {
             "color": "#2a3f5f"
            },
            "marker": {
             "line": {
              "color": "#E5ECF6",
              "width": 0.5
             },
             "pattern": {
              "fillmode": "overlay",
              "size": 10,
              "solidity": 0.2
             }
            },
            "type": "bar"
           }
          ],
          "barpolar": [
           {
            "marker": {
             "line": {
              "color": "#E5ECF6",
              "width": 0.5
             },
             "pattern": {
              "fillmode": "overlay",
              "size": 10,
              "solidity": 0.2
             }
            },
            "type": "barpolar"
           }
          ],
          "carpet": [
           {
            "aaxis": {
             "endlinecolor": "#2a3f5f",
             "gridcolor": "white",
             "linecolor": "white",
             "minorgridcolor": "white",
             "startlinecolor": "#2a3f5f"
            },
            "baxis": {
             "endlinecolor": "#2a3f5f",
             "gridcolor": "white",
             "linecolor": "white",
             "minorgridcolor": "white",
             "startlinecolor": "#2a3f5f"
            },
            "type": "carpet"
           }
          ],
          "choropleth": [
           {
            "colorbar": {
             "outlinewidth": 0,
             "ticks": ""
            },
            "type": "choropleth"
           }
          ],
          "contour": [
           {
            "colorbar": {
             "outlinewidth": 0,
             "ticks": ""
            },
            "colorscale": [
             [
              0,
              "#0d0887"
             ],
             [
              0.1111111111111111,
              "#46039f"
             ],
             [
              0.2222222222222222,
              "#7201a8"
             ],
             [
              0.3333333333333333,
              "#9c179e"
             ],
             [
              0.4444444444444444,
              "#bd3786"
             ],
             [
              0.5555555555555556,
              "#d8576b"
             ],
             [
              0.6666666666666666,
              "#ed7953"
             ],
             [
              0.7777777777777778,
              "#fb9f3a"
             ],
             [
              0.8888888888888888,
              "#fdca26"
             ],
             [
              1,
              "#f0f921"
             ]
            ],
            "type": "contour"
           }
          ],
          "contourcarpet": [
           {
            "colorbar": {
             "outlinewidth": 0,
             "ticks": ""
            },
            "type": "contourcarpet"
           }
          ],
          "heatmap": [
           {
            "colorbar": {
             "outlinewidth": 0,
             "ticks": ""
            },
            "colorscale": [
             [
              0,
              "#0d0887"
             ],
             [
              0.1111111111111111,
              "#46039f"
             ],
             [
              0.2222222222222222,
              "#7201a8"
             ],
             [
              0.3333333333333333,
              "#9c179e"
             ],
             [
              0.4444444444444444,
              "#bd3786"
             ],
             [
              0.5555555555555556,
              "#d8576b"
             ],
             [
              0.6666666666666666,
              "#ed7953"
             ],
             [
              0.7777777777777778,
              "#fb9f3a"
             ],
             [
              0.8888888888888888,
              "#fdca26"
             ],
             [
              1,
              "#f0f921"
             ]
            ],
            "type": "heatmap"
           }
          ],
          "heatmapgl": [
           {
            "colorbar": {
             "outlinewidth": 0,
             "ticks": ""
            },
            "colorscale": [
             [
              0,
              "#0d0887"
             ],
             [
              0.1111111111111111,
              "#46039f"
             ],
             [
              0.2222222222222222,
              "#7201a8"
             ],
             [
              0.3333333333333333,
              "#9c179e"
             ],
             [
              0.4444444444444444,
              "#bd3786"
             ],
             [
              0.5555555555555556,
              "#d8576b"
             ],
             [
              0.6666666666666666,
              "#ed7953"
             ],
             [
              0.7777777777777778,
              "#fb9f3a"
             ],
             [
              0.8888888888888888,
              "#fdca26"
             ],
             [
              1,
              "#f0f921"
             ]
            ],
            "type": "heatmapgl"
           }
          ],
          "histogram": [
           {
            "marker": {
             "pattern": {
              "fillmode": "overlay",
              "size": 10,
              "solidity": 0.2
             }
            },
            "type": "histogram"
           }
          ],
          "histogram2d": [
           {
            "colorbar": {
             "outlinewidth": 0,
             "ticks": ""
            },
            "colorscale": [
             [
              0,
              "#0d0887"
             ],
             [
              0.1111111111111111,
              "#46039f"
             ],
             [
              0.2222222222222222,
              "#7201a8"
             ],
             [
              0.3333333333333333,
              "#9c179e"
             ],
             [
              0.4444444444444444,
              "#bd3786"
             ],
             [
              0.5555555555555556,
              "#d8576b"
             ],
             [
              0.6666666666666666,
              "#ed7953"
             ],
             [
              0.7777777777777778,
              "#fb9f3a"
             ],
             [
              0.8888888888888888,
              "#fdca26"
             ],
             [
              1,
              "#f0f921"
             ]
            ],
            "type": "histogram2d"
           }
          ],
          "histogram2dcontour": [
           {
            "colorbar": {
             "outlinewidth": 0,
             "ticks": ""
            },
            "colorscale": [
             [
              0,
              "#0d0887"
             ],
             [
              0.1111111111111111,
              "#46039f"
             ],
             [
              0.2222222222222222,
              "#7201a8"
             ],
             [
              0.3333333333333333,
              "#9c179e"
             ],
             [
              0.4444444444444444,
              "#bd3786"
             ],
             [
              0.5555555555555556,
              "#d8576b"
             ],
             [
              0.6666666666666666,
              "#ed7953"
             ],
             [
              0.7777777777777778,
              "#fb9f3a"
             ],
             [
              0.8888888888888888,
              "#fdca26"
             ],
             [
              1,
              "#f0f921"
             ]
            ],
            "type": "histogram2dcontour"
           }
          ],
          "mesh3d": [
           {
            "colorbar": {
             "outlinewidth": 0,
             "ticks": ""
            },
            "type": "mesh3d"
           }
          ],
          "parcoords": [
           {
            "line": {
             "colorbar": {
              "outlinewidth": 0,
              "ticks": ""
             }
            },
            "type": "parcoords"
           }
          ],
          "pie": [
           {
            "automargin": true,
            "type": "pie"
           }
          ],
          "scatter": [
           {
            "fillpattern": {
             "fillmode": "overlay",
             "size": 10,
             "solidity": 0.2
            },
            "type": "scatter"
           }
          ],
          "scatter3d": [
           {
            "line": {
             "colorbar": {
              "outlinewidth": 0,
              "ticks": ""
             }
            },
            "marker": {
             "colorbar": {
              "outlinewidth": 0,
              "ticks": ""
             }
            },
            "type": "scatter3d"
           }
          ],
          "scattercarpet": [
           {
            "marker": {
             "colorbar": {
              "outlinewidth": 0,
              "ticks": ""
             }
            },
            "type": "scattercarpet"
           }
          ],
          "scattergeo": [
           {
            "marker": {
             "colorbar": {
              "outlinewidth": 0,
              "ticks": ""
             }
            },
            "type": "scattergeo"
           }
          ],
          "scattergl": [
           {
            "marker": {
             "colorbar": {
              "outlinewidth": 0,
              "ticks": ""
             }
            },
            "type": "scattergl"
           }
          ],
          "scattermapbox": [
           {
            "marker": {
             "colorbar": {
              "outlinewidth": 0,
              "ticks": ""
             }
            },
            "type": "scattermapbox"
           }
          ],
          "scatterpolar": [
           {
            "marker": {
             "colorbar": {
              "outlinewidth": 0,
              "ticks": ""
             }
            },
            "type": "scatterpolar"
           }
          ],
          "scatterpolargl": [
           {
            "marker": {
             "colorbar": {
              "outlinewidth": 0,
              "ticks": ""
             }
            },
            "type": "scatterpolargl"
           }
          ],
          "scatterternary": [
           {
            "marker": {
             "colorbar": {
              "outlinewidth": 0,
              "ticks": ""
             }
            },
            "type": "scatterternary"
           }
          ],
          "surface": [
           {
            "colorbar": {
             "outlinewidth": 0,
             "ticks": ""
            },
            "colorscale": [
             [
              0,
              "#0d0887"
             ],
             [
              0.1111111111111111,
              "#46039f"
             ],
             [
              0.2222222222222222,
              "#7201a8"
             ],
             [
              0.3333333333333333,
              "#9c179e"
             ],
             [
              0.4444444444444444,
              "#bd3786"
             ],
             [
              0.5555555555555556,
              "#d8576b"
             ],
             [
              0.6666666666666666,
              "#ed7953"
             ],
             [
              0.7777777777777778,
              "#fb9f3a"
             ],
             [
              0.8888888888888888,
              "#fdca26"
             ],
             [
              1,
              "#f0f921"
             ]
            ],
            "type": "surface"
           }
          ],
          "table": [
           {
            "cells": {
             "fill": {
              "color": "#EBF0F8"
             },
             "line": {
              "color": "white"
             }
            },
            "header": {
             "fill": {
              "color": "#C8D4E3"
             },
             "line": {
              "color": "white"
             }
            },
            "type": "table"
           }
          ]
         },
         "layout": {
          "annotationdefaults": {
           "arrowcolor": "#2a3f5f",
           "arrowhead": 0,
           "arrowwidth": 1
          },
          "autotypenumbers": "strict",
          "coloraxis": {
           "colorbar": {
            "outlinewidth": 0,
            "ticks": ""
           }
          },
          "colorscale": {
           "diverging": [
            [
             0,
             "#8e0152"
            ],
            [
             0.1,
             "#c51b7d"
            ],
            [
             0.2,
             "#de77ae"
            ],
            [
             0.3,
             "#f1b6da"
            ],
            [
             0.4,
             "#fde0ef"
            ],
            [
             0.5,
             "#f7f7f7"
            ],
            [
             0.6,
             "#e6f5d0"
            ],
            [
             0.7,
             "#b8e186"
            ],
            [
             0.8,
             "#7fbc41"
            ],
            [
             0.9,
             "#4d9221"
            ],
            [
             1,
             "#276419"
            ]
           ],
           "sequential": [
            [
             0,
             "#0d0887"
            ],
            [
             0.1111111111111111,
             "#46039f"
            ],
            [
             0.2222222222222222,
             "#7201a8"
            ],
            [
             0.3333333333333333,
             "#9c179e"
            ],
            [
             0.4444444444444444,
             "#bd3786"
            ],
            [
             0.5555555555555556,
             "#d8576b"
            ],
            [
             0.6666666666666666,
             "#ed7953"
            ],
            [
             0.7777777777777778,
             "#fb9f3a"
            ],
            [
             0.8888888888888888,
             "#fdca26"
            ],
            [
             1,
             "#f0f921"
            ]
           ],
           "sequentialminus": [
            [
             0,
             "#0d0887"
            ],
            [
             0.1111111111111111,
             "#46039f"
            ],
            [
             0.2222222222222222,
             "#7201a8"
            ],
            [
             0.3333333333333333,
             "#9c179e"
            ],
            [
             0.4444444444444444,
             "#bd3786"
            ],
            [
             0.5555555555555556,
             "#d8576b"
            ],
            [
             0.6666666666666666,
             "#ed7953"
            ],
            [
             0.7777777777777778,
             "#fb9f3a"
            ],
            [
             0.8888888888888888,
             "#fdca26"
            ],
            [
             1,
             "#f0f921"
            ]
           ]
          },
          "colorway": [
           "#636efa",
           "#EF553B",
           "#00cc96",
           "#ab63fa",
           "#FFA15A",
           "#19d3f3",
           "#FF6692",
           "#B6E880",
           "#FF97FF",
           "#FECB52"
          ],
          "font": {
           "color": "#2a3f5f"
          },
          "geo": {
           "bgcolor": "white",
           "lakecolor": "white",
           "landcolor": "#E5ECF6",
           "showlakes": true,
           "showland": true,
           "subunitcolor": "white"
          },
          "hoverlabel": {
           "align": "left"
          },
          "hovermode": "closest",
          "mapbox": {
           "style": "light"
          },
          "paper_bgcolor": "white",
          "plot_bgcolor": "#E5ECF6",
          "polar": {
           "angularaxis": {
            "gridcolor": "white",
            "linecolor": "white",
            "ticks": ""
           },
           "bgcolor": "#E5ECF6",
           "radialaxis": {
            "gridcolor": "white",
            "linecolor": "white",
            "ticks": ""
           }
          },
          "scene": {
           "xaxis": {
            "backgroundcolor": "#E5ECF6",
            "gridcolor": "white",
            "gridwidth": 2,
            "linecolor": "white",
            "showbackground": true,
            "ticks": "",
            "zerolinecolor": "white"
           },
           "yaxis": {
            "backgroundcolor": "#E5ECF6",
            "gridcolor": "white",
            "gridwidth": 2,
            "linecolor": "white",
            "showbackground": true,
            "ticks": "",
            "zerolinecolor": "white"
           },
           "zaxis": {
            "backgroundcolor": "#E5ECF6",
            "gridcolor": "white",
            "gridwidth": 2,
            "linecolor": "white",
            "showbackground": true,
            "ticks": "",
            "zerolinecolor": "white"
           }
          },
          "shapedefaults": {
           "line": {
            "color": "#2a3f5f"
           }
          },
          "ternary": {
           "aaxis": {
            "gridcolor": "white",
            "linecolor": "white",
            "ticks": ""
           },
           "baxis": {
            "gridcolor": "white",
            "linecolor": "white",
            "ticks": ""
           },
           "bgcolor": "#E5ECF6",
           "caxis": {
            "gridcolor": "white",
            "linecolor": "white",
            "ticks": ""
           }
          },
          "title": {
           "x": 0.05
          },
          "xaxis": {
           "automargin": true,
           "gridcolor": "white",
           "linecolor": "white",
           "ticks": "",
           "title": {
            "standoff": 15
           },
           "zerolinecolor": "white",
           "zerolinewidth": 2
          },
          "yaxis": {
           "automargin": true,
           "gridcolor": "white",
           "linecolor": "white",
           "ticks": "",
           "title": {
            "standoff": 15
           },
           "zerolinecolor": "white",
           "zerolinewidth": 2
          }
         }
        }
       }
      }
     },
     "metadata": {},
     "output_type": "display_data"
    },
    {
     "data": {
      "application/vnd.plotly.v1+json": {
       "config": {
        "plotlyServerURL": "https://plot.ly"
       },
       "data": [
        {
         "hovertemplate": "Molecular profiles=BRCAmutmet<br>r=%{r}<br>theta=%{theta}<extra></extra>",
         "legendgroup": "BRCAmutmet",
         "line": {
          "color": "#D33F49",
          "dash": "solid"
         },
         "marker": {
          "symbol": "circle"
         },
         "mode": "lines",
         "name": "BRCAmutmet",
         "r": [
          0.8811256673294194,
          0.22734353151007342,
          -0.49652861335307075,
          -0.8610935490801969,
          0.8811256673294194
         ],
         "showlegend": true,
         "subplot": "polar",
         "theta": [
          "MHCI",
          "MHCII",
          "Ki67",
          "ECadherin",
          "MHCI"
         ],
         "type": "scatterpolar"
        },
        {
         "hovertemplate": "Molecular profiles=HRD<br>r=%{r}<br>theta=%{theta}<extra></extra>",
         "legendgroup": "HRD",
         "line": {
          "color": "#FED18C",
          "dash": "solid"
         },
         "marker": {
          "symbol": "circle"
         },
         "mode": "lines",
         "name": "HRD",
         "r": [
          0.48867736015829655,
          0.6740614054199401,
          -0.6780026654647058,
          -1.040550712805195,
          0.48867736015829655
         ],
         "showlegend": true,
         "subplot": "polar",
         "theta": [
          "MHCI",
          "MHCII",
          "Ki67",
          "ECadherin",
          "MHCI"
         ],
         "type": "scatterpolar"
        },
        {
         "hovertemplate": "Molecular profiles=HRP<br>r=%{r}<br>theta=%{theta}<extra></extra>",
         "legendgroup": "HRP",
         "line": {
          "color": "#508791",
          "dash": "solid"
         },
         "marker": {
          "symbol": "circle"
         },
         "mode": "lines",
         "name": "HRP",
         "r": [
          0.6931054411248903,
          0.6298060882066413,
          -0.3787797606683333,
          -0.7486376592479845,
          0.6931054411248903
         ],
         "showlegend": true,
         "subplot": "polar",
         "theta": [
          "MHCI",
          "MHCII",
          "Ki67",
          "ECadherin",
          "MHCI"
         ],
         "type": "scatterpolar"
        },
        {
         "hovertemplate": "Molecular profiles=CCNE1amp<br>r=%{r}<br>theta=%{theta}<extra></extra>",
         "legendgroup": "CCNE1amp",
         "line": {
          "color": "#A7AEF2",
          "dash": "solid"
         },
         "marker": {
          "symbol": "circle"
         },
         "mode": "lines",
         "name": "CCNE1amp",
         "r": [
          0.4231514228631165,
          0.40223103761571766,
          -0.5643479737051501,
          -1.046364604866412,
          0.4231514228631165
         ],
         "showlegend": true,
         "subplot": "polar",
         "theta": [
          "MHCI",
          "MHCII",
          "Ki67",
          "ECadherin",
          "MHCI"
         ],
         "type": "scatterpolar"
        }
       ],
       "layout": {
        "font": {
         "size": 20
        },
        "legend": {
         "title": {
          "text": "Molecular profiles"
         },
         "tracegroupgap": 0
        },
        "margin": {
         "t": 60
        },
        "paper_bgcolor": "rgba(0, 0, 0, 0)",
        "plot_bgcolor": "rgba(0, 0, 0, 0)",
        "polar": {
         "angularaxis": {
          "direction": "clockwise",
          "rotation": 90
         },
         "domain": {
          "x": [
           0,
           1
          ],
          "y": [
           0,
           1
          ]
         },
         "radialaxis": {
          "range": [
           -1.046364604866412,
           0.8811256673294194
          ]
         }
        },
        "template": {
         "data": {
          "bar": [
           {
            "error_x": {
             "color": "#2a3f5f"
            },
            "error_y": {
             "color": "#2a3f5f"
            },
            "marker": {
             "line": {
              "color": "#E5ECF6",
              "width": 0.5
             },
             "pattern": {
              "fillmode": "overlay",
              "size": 10,
              "solidity": 0.2
             }
            },
            "type": "bar"
           }
          ],
          "barpolar": [
           {
            "marker": {
             "line": {
              "color": "#E5ECF6",
              "width": 0.5
             },
             "pattern": {
              "fillmode": "overlay",
              "size": 10,
              "solidity": 0.2
             }
            },
            "type": "barpolar"
           }
          ],
          "carpet": [
           {
            "aaxis": {
             "endlinecolor": "#2a3f5f",
             "gridcolor": "white",
             "linecolor": "white",
             "minorgridcolor": "white",
             "startlinecolor": "#2a3f5f"
            },
            "baxis": {
             "endlinecolor": "#2a3f5f",
             "gridcolor": "white",
             "linecolor": "white",
             "minorgridcolor": "white",
             "startlinecolor": "#2a3f5f"
            },
            "type": "carpet"
           }
          ],
          "choropleth": [
           {
            "colorbar": {
             "outlinewidth": 0,
             "ticks": ""
            },
            "type": "choropleth"
           }
          ],
          "contour": [
           {
            "colorbar": {
             "outlinewidth": 0,
             "ticks": ""
            },
            "colorscale": [
             [
              0,
              "#0d0887"
             ],
             [
              0.1111111111111111,
              "#46039f"
             ],
             [
              0.2222222222222222,
              "#7201a8"
             ],
             [
              0.3333333333333333,
              "#9c179e"
             ],
             [
              0.4444444444444444,
              "#bd3786"
             ],
             [
              0.5555555555555556,
              "#d8576b"
             ],
             [
              0.6666666666666666,
              "#ed7953"
             ],
             [
              0.7777777777777778,
              "#fb9f3a"
             ],
             [
              0.8888888888888888,
              "#fdca26"
             ],
             [
              1,
              "#f0f921"
             ]
            ],
            "type": "contour"
           }
          ],
          "contourcarpet": [
           {
            "colorbar": {
             "outlinewidth": 0,
             "ticks": ""
            },
            "type": "contourcarpet"
           }
          ],
          "heatmap": [
           {
            "colorbar": {
             "outlinewidth": 0,
             "ticks": ""
            },
            "colorscale": [
             [
              0,
              "#0d0887"
             ],
             [
              0.1111111111111111,
              "#46039f"
             ],
             [
              0.2222222222222222,
              "#7201a8"
             ],
             [
              0.3333333333333333,
              "#9c179e"
             ],
             [
              0.4444444444444444,
              "#bd3786"
             ],
             [
              0.5555555555555556,
              "#d8576b"
             ],
             [
              0.6666666666666666,
              "#ed7953"
             ],
             [
              0.7777777777777778,
              "#fb9f3a"
             ],
             [
              0.8888888888888888,
              "#fdca26"
             ],
             [
              1,
              "#f0f921"
             ]
            ],
            "type": "heatmap"
           }
          ],
          "heatmapgl": [
           {
            "colorbar": {
             "outlinewidth": 0,
             "ticks": ""
            },
            "colorscale": [
             [
              0,
              "#0d0887"
             ],
             [
              0.1111111111111111,
              "#46039f"
             ],
             [
              0.2222222222222222,
              "#7201a8"
             ],
             [
              0.3333333333333333,
              "#9c179e"
             ],
             [
              0.4444444444444444,
              "#bd3786"
             ],
             [
              0.5555555555555556,
              "#d8576b"
             ],
             [
              0.6666666666666666,
              "#ed7953"
             ],
             [
              0.7777777777777778,
              "#fb9f3a"
             ],
             [
              0.8888888888888888,
              "#fdca26"
             ],
             [
              1,
              "#f0f921"
             ]
            ],
            "type": "heatmapgl"
           }
          ],
          "histogram": [
           {
            "marker": {
             "pattern": {
              "fillmode": "overlay",
              "size": 10,
              "solidity": 0.2
             }
            },
            "type": "histogram"
           }
          ],
          "histogram2d": [
           {
            "colorbar": {
             "outlinewidth": 0,
             "ticks": ""
            },
            "colorscale": [
             [
              0,
              "#0d0887"
             ],
             [
              0.1111111111111111,
              "#46039f"
             ],
             [
              0.2222222222222222,
              "#7201a8"
             ],
             [
              0.3333333333333333,
              "#9c179e"
             ],
             [
              0.4444444444444444,
              "#bd3786"
             ],
             [
              0.5555555555555556,
              "#d8576b"
             ],
             [
              0.6666666666666666,
              "#ed7953"
             ],
             [
              0.7777777777777778,
              "#fb9f3a"
             ],
             [
              0.8888888888888888,
              "#fdca26"
             ],
             [
              1,
              "#f0f921"
             ]
            ],
            "type": "histogram2d"
           }
          ],
          "histogram2dcontour": [
           {
            "colorbar": {
             "outlinewidth": 0,
             "ticks": ""
            },
            "colorscale": [
             [
              0,
              "#0d0887"
             ],
             [
              0.1111111111111111,
              "#46039f"
             ],
             [
              0.2222222222222222,
              "#7201a8"
             ],
             [
              0.3333333333333333,
              "#9c179e"
             ],
             [
              0.4444444444444444,
              "#bd3786"
             ],
             [
              0.5555555555555556,
              "#d8576b"
             ],
             [
              0.6666666666666666,
              "#ed7953"
             ],
             [
              0.7777777777777778,
              "#fb9f3a"
             ],
             [
              0.8888888888888888,
              "#fdca26"
             ],
             [
              1,
              "#f0f921"
             ]
            ],
            "type": "histogram2dcontour"
           }
          ],
          "mesh3d": [
           {
            "colorbar": {
             "outlinewidth": 0,
             "ticks": ""
            },
            "type": "mesh3d"
           }
          ],
          "parcoords": [
           {
            "line": {
             "colorbar": {
              "outlinewidth": 0,
              "ticks": ""
             }
            },
            "type": "parcoords"
           }
          ],
          "pie": [
           {
            "automargin": true,
            "type": "pie"
           }
          ],
          "scatter": [
           {
            "fillpattern": {
             "fillmode": "overlay",
             "size": 10,
             "solidity": 0.2
            },
            "type": "scatter"
           }
          ],
          "scatter3d": [
           {
            "line": {
             "colorbar": {
              "outlinewidth": 0,
              "ticks": ""
             }
            },
            "marker": {
             "colorbar": {
              "outlinewidth": 0,
              "ticks": ""
             }
            },
            "type": "scatter3d"
           }
          ],
          "scattercarpet": [
           {
            "marker": {
             "colorbar": {
              "outlinewidth": 0,
              "ticks": ""
             }
            },
            "type": "scattercarpet"
           }
          ],
          "scattergeo": [
           {
            "marker": {
             "colorbar": {
              "outlinewidth": 0,
              "ticks": ""
             }
            },
            "type": "scattergeo"
           }
          ],
          "scattergl": [
           {
            "marker": {
             "colorbar": {
              "outlinewidth": 0,
              "ticks": ""
             }
            },
            "type": "scattergl"
           }
          ],
          "scattermapbox": [
           {
            "marker": {
             "colorbar": {
              "outlinewidth": 0,
              "ticks": ""
             }
            },
            "type": "scattermapbox"
           }
          ],
          "scatterpolar": [
           {
            "marker": {
             "colorbar": {
              "outlinewidth": 0,
              "ticks": ""
             }
            },
            "type": "scatterpolar"
           }
          ],
          "scatterpolargl": [
           {
            "marker": {
             "colorbar": {
              "outlinewidth": 0,
              "ticks": ""
             }
            },
            "type": "scatterpolargl"
           }
          ],
          "scatterternary": [
           {
            "marker": {
             "colorbar": {
              "outlinewidth": 0,
              "ticks": ""
             }
            },
            "type": "scatterternary"
           }
          ],
          "surface": [
           {
            "colorbar": {
             "outlinewidth": 0,
             "ticks": ""
            },
            "colorscale": [
             [
              0,
              "#0d0887"
             ],
             [
              0.1111111111111111,
              "#46039f"
             ],
             [
              0.2222222222222222,
              "#7201a8"
             ],
             [
              0.3333333333333333,
              "#9c179e"
             ],
             [
              0.4444444444444444,
              "#bd3786"
             ],
             [
              0.5555555555555556,
              "#d8576b"
             ],
             [
              0.6666666666666666,
              "#ed7953"
             ],
             [
              0.7777777777777778,
              "#fb9f3a"
             ],
             [
              0.8888888888888888,
              "#fdca26"
             ],
             [
              1,
              "#f0f921"
             ]
            ],
            "type": "surface"
           }
          ],
          "table": [
           {
            "cells": {
             "fill": {
              "color": "#EBF0F8"
             },
             "line": {
              "color": "white"
             }
            },
            "header": {
             "fill": {
              "color": "#C8D4E3"
             },
             "line": {
              "color": "white"
             }
            },
            "type": "table"
           }
          ]
         },
         "layout": {
          "annotationdefaults": {
           "arrowcolor": "#2a3f5f",
           "arrowhead": 0,
           "arrowwidth": 1
          },
          "autotypenumbers": "strict",
          "coloraxis": {
           "colorbar": {
            "outlinewidth": 0,
            "ticks": ""
           }
          },
          "colorscale": {
           "diverging": [
            [
             0,
             "#8e0152"
            ],
            [
             0.1,
             "#c51b7d"
            ],
            [
             0.2,
             "#de77ae"
            ],
            [
             0.3,
             "#f1b6da"
            ],
            [
             0.4,
             "#fde0ef"
            ],
            [
             0.5,
             "#f7f7f7"
            ],
            [
             0.6,
             "#e6f5d0"
            ],
            [
             0.7,
             "#b8e186"
            ],
            [
             0.8,
             "#7fbc41"
            ],
            [
             0.9,
             "#4d9221"
            ],
            [
             1,
             "#276419"
            ]
           ],
           "sequential": [
            [
             0,
             "#0d0887"
            ],
            [
             0.1111111111111111,
             "#46039f"
            ],
            [
             0.2222222222222222,
             "#7201a8"
            ],
            [
             0.3333333333333333,
             "#9c179e"
            ],
            [
             0.4444444444444444,
             "#bd3786"
            ],
            [
             0.5555555555555556,
             "#d8576b"
            ],
            [
             0.6666666666666666,
             "#ed7953"
            ],
            [
             0.7777777777777778,
             "#fb9f3a"
            ],
            [
             0.8888888888888888,
             "#fdca26"
            ],
            [
             1,
             "#f0f921"
            ]
           ],
           "sequentialminus": [
            [
             0,
             "#0d0887"
            ],
            [
             0.1111111111111111,
             "#46039f"
            ],
            [
             0.2222222222222222,
             "#7201a8"
            ],
            [
             0.3333333333333333,
             "#9c179e"
            ],
            [
             0.4444444444444444,
             "#bd3786"
            ],
            [
             0.5555555555555556,
             "#d8576b"
            ],
            [
             0.6666666666666666,
             "#ed7953"
            ],
            [
             0.7777777777777778,
             "#fb9f3a"
            ],
            [
             0.8888888888888888,
             "#fdca26"
            ],
            [
             1,
             "#f0f921"
            ]
           ]
          },
          "colorway": [
           "#636efa",
           "#EF553B",
           "#00cc96",
           "#ab63fa",
           "#FFA15A",
           "#19d3f3",
           "#FF6692",
           "#B6E880",
           "#FF97FF",
           "#FECB52"
          ],
          "font": {
           "color": "#2a3f5f"
          },
          "geo": {
           "bgcolor": "white",
           "lakecolor": "white",
           "landcolor": "#E5ECF6",
           "showlakes": true,
           "showland": true,
           "subunitcolor": "white"
          },
          "hoverlabel": {
           "align": "left"
          },
          "hovermode": "closest",
          "mapbox": {
           "style": "light"
          },
          "paper_bgcolor": "white",
          "plot_bgcolor": "#E5ECF6",
          "polar": {
           "angularaxis": {
            "gridcolor": "white",
            "linecolor": "white",
            "ticks": ""
           },
           "bgcolor": "#E5ECF6",
           "radialaxis": {
            "gridcolor": "white",
            "linecolor": "white",
            "ticks": ""
           }
          },
          "scene": {
           "xaxis": {
            "backgroundcolor": "#E5ECF6",
            "gridcolor": "white",
            "gridwidth": 2,
            "linecolor": "white",
            "showbackground": true,
            "ticks": "",
            "zerolinecolor": "white"
           },
           "yaxis": {
            "backgroundcolor": "#E5ECF6",
            "gridcolor": "white",
            "gridwidth": 2,
            "linecolor": "white",
            "showbackground": true,
            "ticks": "",
            "zerolinecolor": "white"
           },
           "zaxis": {
            "backgroundcolor": "#E5ECF6",
            "gridcolor": "white",
            "gridwidth": 2,
            "linecolor": "white",
            "showbackground": true,
            "ticks": "",
            "zerolinecolor": "white"
           }
          },
          "shapedefaults": {
           "line": {
            "color": "#2a3f5f"
           }
          },
          "ternary": {
           "aaxis": {
            "gridcolor": "white",
            "linecolor": "white",
            "ticks": ""
           },
           "baxis": {
            "gridcolor": "white",
            "linecolor": "white",
            "ticks": ""
           },
           "bgcolor": "#E5ECF6",
           "caxis": {
            "gridcolor": "white",
            "linecolor": "white",
            "ticks": ""
           }
          },
          "title": {
           "x": 0.05
          },
          "xaxis": {
           "automargin": true,
           "gridcolor": "white",
           "linecolor": "white",
           "ticks": "",
           "title": {
            "standoff": 15
           },
           "zerolinecolor": "white",
           "zerolinewidth": 2
          },
          "yaxis": {
           "automargin": true,
           "gridcolor": "white",
           "linecolor": "white",
           "ticks": "",
           "title": {
            "standoff": 15
           },
           "zerolinecolor": "white",
           "zerolinewidth": 2
          }
         }
        }
       }
      }
     },
     "metadata": {},
     "output_type": "display_data"
    }
   ],
   "source": [
    "df = analysis_of_molprofiles_results.prep_df(cells_df)\n",
    "\n",
    "cell_types = ['Cancer','Stromal','Immune']\n",
    "\n",
    "for cell_type in cell_types:\n",
    "    analysis_of_molprofiles_results.create_spider_plot_four_molprofiles(cells_df=df,class1=['BRCAloss'],class2=['HRD'],class3=['HRP'],class4=['CCNE1amp'],cell_type=cell_type,therapy='PDS',top_markers=['MHCI','MHCII','Ki67','ECadherin'])"
   ]
  },
  {
   "cell_type": "markdown",
   "metadata": {},
   "source": [
    "The pre-processed expression of MHCI, MHCII, Ki67 & E-cadherin in Cancer and Stromal compartment across BRCA loss (yellow) and HRP (purple) samples. Mann-Whitney two-sided test is performed to compare the distributions, where p-value less than 0.0001 is marked ‘****’."
   ]
  },
  {
   "cell_type": "code",
   "execution_count": 7,
   "metadata": {},
   "outputs": [
    {
     "name": "stdout",
     "output_type": "stream",
     "text": [
      "p-value annotation legend:\n",
      "      ns: 5.00e-02 < p <= 1.00e+00\n",
      "       *: 1.00e-02 < p <= 5.00e-02\n",
      "      **: 1.00e-03 < p <= 1.00e-02\n",
      "     ***: 1.00e-04 < p <= 1.00e-03\n",
      "    ****: p <= 1.00e-04\n",
      "\n",
      "MHCII_BRCAmutmet vs. MHCII_HRP: Mann-Whitney-Wilcoxon test two-sided, P_val:0.000e+00 U_stat=1.362e+10\n",
      "MHCI_BRCAmutmet vs. MHCI_HRP: Mann-Whitney-Wilcoxon test two-sided, P_val:0.000e+00 U_stat=1.285e+10\n",
      "Ki67_BRCAmutmet vs. Ki67_HRP: Mann-Whitney-Wilcoxon test two-sided, P_val:0.000e+00 U_stat=8.406e+09\n",
      "ECadherin_BRCAmutmet vs. ECadherin_HRP: Mann-Whitney-Wilcoxon test two-sided, P_val:0.000e+00 U_stat=1.294e+10\n"
     ]
    },
    {
     "data": {
      "image/png": "[encoded data removed]",
      "text/plain": [
       "<Figure size 640x480 with 1 Axes>"
      ]
     },
     "metadata": {
      "needs_background": "light"
     },
     "output_type": "display_data"
    },
    {
     "name": "stdout",
     "output_type": "stream",
     "text": [
      "p-value annotation legend:\n",
      "      ns: 5.00e-02 < p <= 1.00e+00\n",
      "       *: 1.00e-02 < p <= 5.00e-02\n",
      "      **: 1.00e-03 < p <= 1.00e-02\n",
      "     ***: 1.00e-04 < p <= 1.00e-03\n",
      "    ****: p <= 1.00e-04\n",
      "\n",
      "MHCII_BRCAmutmet vs. MHCII_HRP: Mann-Whitney-Wilcoxon test two-sided, P_val:0.000e+00 U_stat=4.347e+09\n",
      "MHCI_BRCAmutmet vs. MHCI_HRP: Mann-Whitney-Wilcoxon test two-sided, P_val:0.000e+00 U_stat=5.458e+09\n",
      "Ki67_BRCAmutmet vs. Ki67_HRP: Mann-Whitney-Wilcoxon test two-sided, P_val:0.000e+00 U_stat=3.208e+09\n",
      "ECadherin_BRCAmutmet vs. ECadherin_HRP: Mann-Whitney-Wilcoxon test two-sided, P_val:9.737e-01 U_stat=3.816e+09\n"
     ]
    },
    {
     "data": {
      "image/png": "[encoded data removed]",
      "text/plain": [
       "<Figure size 640x480 with 1 Axes>"
      ]
     },
     "metadata": {
      "needs_background": "light"
     },
     "output_type": "display_data"
    }
   ],
   "source": [
    "cell_types = ['Cancer','Stromal']\n",
    "\n",
    "for cell_type in cell_types:\n",
    "    analysis_of_molprofiles_results.create_violin_plot(cells_df=df,class1=['BRCAloss'],class2=['HRP'],cell_type=cell_type,therapy='PDS',top_markers=['MHCI','MHCII','Ki67','ECadherin'])"
   ]
  }
 ],
 "metadata": {
  "kernelspec": {
   "display_name": "nki-env",
   "language": "python",
   "name": "python3"
  },
  "language_info": {
   "codemirror_mode": {
    "name": "ipython",
    "version": 3
   },
   "file_extension": ".py",
   "mimetype": "text/x-python",
   "name": "python",
   "nbconvert_exporter": "python",
   "pygments_lexer": "ipython3",
   "version": "3.10.9"
  }
 },
 "nbformat": 4,
 "nbformat_minor": 2
}
